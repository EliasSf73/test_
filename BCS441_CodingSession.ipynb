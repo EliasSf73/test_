{
  "cells": [
    {
      "cell_type": "markdown",
      "metadata": {
        "id": "view-in-github",
        "colab_type": "text"
      },
      "source": [
        "<a href=\"https://colab.research.google.com/github/EliasSf73/test_/blob/master/BCS441_CodingSession.ipynb\" target=\"_parent\"><img src=\"https://colab.research.google.com/assets/colab-badge.svg\" alt=\"Open In Colab\"/></a>"
      ]
    },
    {
      "cell_type": "markdown",
      "metadata": {
        "id": "-XaMMVxEvBgV"
      },
      "source": [
        "## BCS441 Coding Session 1: medical image diagnosis challenge\n",
        "\n",
        "* TA: DoHyoung Lee, Sugun Yoon\n",
        "* Please send questions about session 1 to bjj2931@kaist.ac.kr or sugunok@kaist.ac.kr.\n",
        "* This code works itself, but it is not optimized at all."
      ]
    },
    {
      "cell_type": "markdown",
      "metadata": {
        "id": "DMROudXlLtfP"
      },
      "source": [
        "### 1. Load packages"
      ]
    },
    {
      "cell_type": "code",
      "source": [
        "!pip install opencv-python\n"
      ],
      "metadata": {
        "id": "DnZVNYpA5qRy",
        "outputId": "cb06d0d2-89d1-49af-92e3-527b27a6906d",
        "colab": {
          "base_uri": "https://localhost:8080/"
        }
      },
      "execution_count": 1,
      "outputs": [
        {
          "output_type": "stream",
          "name": "stdout",
          "text": [
            "Requirement already satisfied: opencv-python in /usr/local/lib/python3.10/dist-packages (4.8.0.76)\n",
            "Requirement already satisfied: numpy>=1.21.2 in /usr/local/lib/python3.10/dist-packages (from opencv-python) (1.25.2)\n"
          ]
        }
      ]
    },
    {
      "cell_type": "code",
      "execution_count": 2,
      "metadata": {
        "id": "5hPfS60OLtfP",
        "outputId": "69b09701-983b-4ac8-da77-3e954a99c604",
        "colab": {
          "base_uri": "https://localhost:8080/"
        }
      },
      "outputs": [
        {
          "output_type": "stream",
          "name": "stdout",
          "text": [
            "Requirement already satisfied: opencv-python in /usr/local/lib/python3.10/dist-packages (4.8.0.76)\n",
            "Requirement already satisfied: numpy>=1.21.2 in /usr/local/lib/python3.10/dist-packages (from opencv-python) (1.25.2)\n"
          ]
        }
      ],
      "source": [
        "!pip install opencv-python  # Installing the opencv-python package to preprocess images\n",
        "\n",
        "import numpy as np\n",
        "import random\n",
        "import collections\n",
        "import os\n",
        "\n",
        "import torch\n",
        "import torch.nn as nn\n",
        "import torch.nn.functional as F\n",
        "import torch.optim as optim\n",
        "\n",
        "from PIL import Image\n",
        "from matplotlib import pyplot as plt\n",
        "import cv2\n",
        "import imutils\n"
      ]
    },
    {
      "cell_type": "code",
      "execution_count": 3,
      "metadata": {
        "id": "j8dnnEMFLtfQ",
        "outputId": "9ae5bc4a-402c-4c6b-e54f-5ca0127c101c",
        "colab": {
          "base_uri": "https://localhost:8080/"
        }
      },
      "outputs": [
        {
          "output_type": "stream",
          "name": "stdout",
          "text": [
            "Mounted at /content/drive\n"
          ]
        }
      ],
      "source": [
        "# If you use google colab\n",
        "from google.colab import drive\n",
        "drive.mount('/content/drive')"
      ]
    },
    {
      "cell_type": "markdown",
      "metadata": {
        "id": "mf00Wc9Ui_ig"
      },
      "source": [
        "### 2. Set hyperparameters\n",
        "* About batch size & epoch\n",
        "    * https://machine-learning.paperspace.com/wiki/epoch#:~:text=The%20number%20of%20iterations%20is,to%20complete%20a%20single%20epoch.\n",
        "* **Other sections of this ipynb file define other hyperparameters. You can freely modify them.**\n"
      ]
    },
    {
      "cell_type": "code",
      "execution_count": 4,
      "metadata": {
        "id": "_Mnl0JpzjE0x"
      },
      "outputs": [],
      "source": [
        "batch_size=400   #800\n",
        "Epoch =10        #100\n",
        "Learning_rate=0.00015  #0.1\n"
      ]
    },
    {
      "cell_type": "markdown",
      "metadata": {
        "id": "J-WewHcyvK4i"
      },
      "source": [
        "### 3. Load and preprocess the dataset\n",
        "\n",
        "* Original Dataset: https://www.kaggle.com/datasets/masoudnickparvar/brain-tumor-mri-dataset/data\n",
        "* 4 classes: Glioma(신경교종), Meningioma(수막종), No tumor, Pituitary(뇌하수체)\n",
        "* Each image has different size, so preprocessing is required to find the largest contour in a given image, and to find a rectangular region that is contiguous to that contour."
      ]
    },
    {
      "cell_type": "code",
      "execution_count": 5,
      "metadata": {
        "id": "IfI4E2ViLtfR"
      },
      "outputs": [],
      "source": [
        "import os\n",
        "import cv2\n",
        "import imutils\n",
        "\n",
        "def crop_img(img):\n",
        "    # find the extreme points on the image and crops the rectangular out of them\n",
        "    gray = cv2.cvtColor(img, cv2.COLOR_RGB2GRAY)\n",
        "    gray = cv2.GaussianBlur(gray, (3, 3), 0)\n",
        "\n",
        "    # threshold the image, then perform a series of erosions +\n",
        "    # dilations to remove any small regions of noise\n",
        "    thresh = cv2.threshold(gray, 45, 255, cv2.THRESH_BINARY)[1] # change color from RGB to grayscale and binarize 0 or 255\n",
        "    thresh = cv2.erode(thresh, None, iterations=2)\n",
        "    thresh = cv2.dilate(thresh, None, iterations=2)\n",
        "\n",
        "    # find contours in thresholded image, then grab the largest one\n",
        "    cnts = cv2.findContours(thresh.copy(), cv2.RETR_EXTERNAL, cv2.CHAIN_APPROX_SIMPLE)\n",
        "    cnts = imutils.grab_contours(cnts)\n",
        "    c = max(cnts, key=cv2.contourArea)\n",
        "\n",
        "    # find the extreme points\n",
        "    extLeft = tuple(c[c[:, :, 0].argmin()][0])\n",
        "    extRight = tuple(c[c[:, :, 0].argmax()][0])\n",
        "    extTop = tuple(c[c[:, :, 1].argmin()][0])\n",
        "    extBot = tuple(c[c[:, :, 1].argmax()][0])\n",
        "    ADD_PIXELS = 0\n",
        "    new_img = img[extTop[1]-ADD_PIXELS:extBot[1]+ADD_PIXELS, extLeft[0]-ADD_PIXELS:extRight[0]+ADD_PIXELS].copy()\n",
        "\n",
        "    return new_img\n",
        "\n",
        "# Change file_path to a writable directory\n",
        "file_path= \"/content/drive/MyDrive/BCS441_CodingSession1_data/\"  # Set to a relative path or writable directory\n",
        "training = os.path.join(file_path, \"Training\")\n",
        "testing = os.path.join(file_path, \"Testing\")\n",
        "training_dir = os.listdir(training)\n",
        "testing_dir = os.listdir(testing)\n",
        "IMG_SIZE = 128\n",
        "\n",
        "for dir in training_dir:\n",
        "    save_path = os.path.join(file_path, 'Training', dir)\n",
        "    path = os.path.join(training, dir)\n",
        "    image_dir = os.listdir(path)\n",
        "    for img in image_dir:\n",
        "        image = cv2.imread(os.path.join(path, img))\n",
        "        new_img = crop_img(image)\n",
        "        new_img = cv2.resize(new_img, (IMG_SIZE, IMG_SIZE))\n",
        "        new_img = cv2.cvtColor(new_img, cv2.COLOR_RGB2GRAY)\n",
        "        if not os.path.exists(save_path):\n",
        "            os.makedirs(save_path)\n",
        "        cv2.imwrite(os.path.join(save_path, img), new_img)\n",
        "\n",
        "for dir in testing_dir:\n",
        "    save_path = os.path.join(file_path, 'Testing', dir)\n",
        "    path = os.path.join(testing, dir)\n",
        "    image_dir = os.listdir(path)\n",
        "    for img in image_dir:\n",
        "        image = cv2.imread(os.path.join(path, img))\n",
        "        new_img = crop_img(image)\n",
        "        new_img = cv2.resize(new_img, (IMG_SIZE, IMG_SIZE))\n",
        "        new_img = cv2.cvtColor(new_img, cv2.COLOR_RGB2GRAY)\n",
        "        if not os.path.exists(save_path):\n",
        "            os.makedirs(save_path)\n",
        "        cv2.imwrite(os.path.join(save_path, img), new_img)\n"
      ]
    },
    {
      "cell_type": "code",
      "execution_count": 6,
      "metadata": {
        "id": "T48fDuPFvLDq",
        "outputId": "b34503fc-719b-47b3-f680-8a1a2e810608",
        "colab": {
          "base_uri": "https://localhost:8080/"
        }
      },
      "outputs": [
        {
          "output_type": "stream",
          "name": "stdout",
          "text": [
            "/content/drive/MyDrive/BCS441_CodingSession1_data/Training/glioma/\n",
            "/content/drive/MyDrive/BCS441_CodingSession1_data/Testing/glioma/\n",
            "/content/drive/MyDrive/BCS441_CodingSession1_data/Training/meningioma/\n",
            "/content/drive/MyDrive/BCS441_CodingSession1_data/Testing/meningioma/\n",
            "/content/drive/MyDrive/BCS441_CodingSession1_data/Training/notumor/\n",
            "/content/drive/MyDrive/BCS441_CodingSession1_data/Testing/notumor/\n",
            "/content/drive/MyDrive/BCS441_CodingSession1_data/Training/pituitary/\n",
            "/content/drive/MyDrive/BCS441_CodingSession1_data/Testing/pituitary/\n"
          ]
        },
        {
          "output_type": "stream",
          "name": "stderr",
          "text": [
            "<ipython-input-6-f1ba44f84536>:34: UserWarning: Creating a tensor from a list of numpy.ndarrays is extremely slow. Please consider converting the list to a single numpy.ndarray with numpy.array() before converting to a tensor. (Triggered internally at ../torch/csrc/utils/tensor_new.cpp:275.)\n",
            "  test_label = torch.Tensor(test_label)\n"
          ]
        }
      ],
      "source": [
        "file_path = \"/content/drive/MyDrive/BCS441_CodingSession1_data/\"  # You must change file_path\n",
        "\n",
        "training_data=[]\n",
        "test_data=[]\n",
        "test_label = []\n",
        "\n",
        "labels = ['glioma/', 'meningioma/', 'notumor/', 'pituitary/']\n",
        "\n",
        "# to make label to one-hot vector ex) notumor -> [0, 0, 1, 0]\n",
        "def one_hot_encoding(index, num_classes):\n",
        "    one_hot = np.zeros(num_classes)\n",
        "    one_hot[index] = 1\n",
        "    return one_hot\n",
        "\n",
        "for index, label in enumerate(labels):\n",
        "    path = os.path.join(file_path + \"Training/\" + label)\n",
        "    print(path)\n",
        "    image_dir = os.listdir(path)\n",
        "    for img in image_dir:\n",
        "        image = Image.open(path + img)\n",
        "        image=np.array(image)/255\n",
        "        image = image[np.newaxis, :, :]\n",
        "        training_data.append([image, one_hot_encoding(index, len(labels))])\n",
        "\n",
        "    path = os.path.join(file_path + \"Testing/\" + label)\n",
        "    print(path)\n",
        "    image_dir = os.listdir(path)\n",
        "    for img in image_dir:\n",
        "        image = Image.open(path + img)\n",
        "        image=np.array(image)/255\n",
        "        image = image[np.newaxis, :, :]\n",
        "        test_data.append(image)\n",
        "        test_label.append(one_hot_encoding(index, len(labels)))\n",
        "test_label = torch.Tensor(test_label)"
      ]
    },
    {
      "cell_type": "markdown",
      "metadata": {
        "id": "a3G8CkLwvQ4l"
      },
      "source": [
        "### 4. Separate the dataset (training set & validation set)\n",
        "\n",
        "* The size of the validation set is a hyperparameter. (9:1 ratio for training:validation)"
      ]
    },
    {
      "cell_type": "code",
      "execution_count": 7,
      "metadata": {
        "id": "kJjmUa3VvOnY",
        "outputId": "66f75987-a0cd-4360-94fd-ae571f7ee86e",
        "colab": {
          "base_uri": "https://localhost:8080/"
        }
      },
      "outputs": [
        {
          "output_type": "stream",
          "name": "stdout",
          "text": [
            "5141\n",
            "571\n"
          ]
        }
      ],
      "source": [
        "random.shuffle(training_data)\n",
        "selected_training_data=training_data[:round(0.9 * len(training_data))]\n",
        "validation_data=training_data[round(0.9 * len(training_data)):]\n",
        "\n",
        "print(len(selected_training_data)) # training set size\n",
        "print(len(validation_data)) # validation set size"
      ]
    },
    {
      "cell_type": "markdown",
      "metadata": {
        "id": "-PM5XXMgyG96"
      },
      "source": [
        "### 5. Define functions: batch sampling & validation data extraction\n",
        "\n"
      ]
    },
    {
      "cell_type": "code",
      "execution_count": 8,
      "metadata": {
        "id": "j1lTpcN6vSJ8"
      },
      "outputs": [],
      "source": [
        "def batch_sampling (num):\n",
        "    global selected_training_data\n",
        "\n",
        "    if num==0:\n",
        "        random.shuffle(selected_training_data)\n",
        "\n",
        "    x_size=0\n",
        "    train_x=[]\n",
        "    train_y=[]\n",
        "    for i in range(batch_size):\n",
        "        try:\n",
        "            train_x.append(selected_training_data[num*batch_size+i][0])\n",
        "            train_y.append(selected_training_data[num*batch_size+i][1])\n",
        "            x_size+=1\n",
        "        except:\n",
        "            break\n",
        "\n",
        "    return torch.from_numpy(np.array(train_x)).float(), torch.from_numpy(np.array(train_y)).long(), x_size\n",
        "\n",
        "def extract_validation_data ():\n",
        "    global validation_data\n",
        "    x_size = 0\n",
        "    val_x=[]\n",
        "    val_y=[]\n",
        "    for i in range(len(validation_data)):\n",
        "        val_x.append(validation_data[i][0])\n",
        "        val_y.append(validation_data[i][1])\n",
        "        x_size += 1\n",
        "    return torch.from_numpy(np.array(val_x)).float(), torch.from_numpy(np.array(val_y)).long(), x_size\n"
      ]
    },
    {
      "cell_type": "markdown",
      "metadata": {
        "id": "Fi425up6y4JU"
      },
      "source": [
        "### 6. Define a neural network\n",
        "\n",
        "* You can freely modify hyperparameters in the below part (number of layers, number of units, size of the kernel, etc.).\n",
        "* You don't have to use a CNN. Try any other models if you want.\n",
        "* For more details about the network components, check https://pytorch.org/docs/stable/index.html"
      ]
    },
    {
      "cell_type": "code",
      "execution_count": 9,
      "metadata": {
        "id": "EhnalP0-vYSG",
        "colab": {
          "base_uri": "https://localhost:8080/"
        },
        "outputId": "5bdf235d-602d-4426-b35a-3d3aa736fee3"
      },
      "outputs": [
        {
          "output_type": "stream",
          "name": "stdout",
          "text": [
            "Net(\n",
            "  (conv1): Conv2d(1, 32, kernel_size=(5, 5), stride=(1, 1), padding=(2, 2))\n",
            "  (pool): MaxPool2d(kernel_size=2, stride=2, padding=0, dilation=1, ceil_mode=False)\n",
            "  (conv2): Conv2d(32, 4, kernel_size=(3, 3), stride=(1, 1), padding=(1, 1))\n",
            "  (fc1): Linear(in_features=4096, out_features=64, bias=True)\n",
            "  (fc2): Linear(in_features=64, out_features=8, bias=True)\n",
            "  (fc3): Linear(in_features=8, out_features=4, bias=True)\n",
            "  (softmax): Softmax(dim=1)\n",
            ")\n",
            "tensor([[0.2830, 0.1620, 0.3440, 0.2110],\n",
            "        [0.2825, 0.1613, 0.3454, 0.2108],\n",
            "        [0.2800, 0.1607, 0.3460, 0.2133],\n",
            "        [0.2786, 0.1592, 0.3492, 0.2129],\n",
            "        [0.2901, 0.1613, 0.3325, 0.2161],\n",
            "        [0.2897, 0.1617, 0.3324, 0.2161],\n",
            "        [0.2829, 0.1606, 0.3433, 0.2133],\n",
            "        [0.2913, 0.1633, 0.3391, 0.2062],\n",
            "        [0.2813, 0.1607, 0.3476, 0.2104],\n",
            "        [0.2861, 0.1610, 0.3409, 0.2120]], grad_fn=<SoftmaxBackward0>)\n"
          ]
        }
      ],
      "source": [
        "class Net(nn.Module):\n",
        "    def __init__(self):\n",
        "        super().__init__()\n",
        "        self.conv1 = nn.Conv2d(in_channels = 1, out_channels = 32, kernel_size = 5,stride = 1, padding=2)\n",
        "        self.pool = nn.MaxPool2d(2, 2)\n",
        "        self.conv2 = nn.Conv2d(in_channels = 32, out_channels = 4, kernel_size = 3,stride = 1, padding=1)\n",
        "        self.fc1 = nn.Linear(32 * 32 * 4, 64)\n",
        "        self.fc2 = nn.Linear(64, 8)\n",
        "        self.fc3 = nn.Linear(8, 4)\n",
        "        self.softmax=nn.Softmax(dim=1)\n",
        "\n",
        "    def forward(self, x):\n",
        "        x = self.pool(F.relu(self.conv1(x)))\n",
        "        x = self.pool(F.relu(self.conv2(x)))\n",
        "\n",
        "        x = x.view(-1, 32 * 32 * 4)\n",
        "        x = F.relu(self.fc1(x))\n",
        "        x = F.relu(self.fc2(x))\n",
        "        x = self.fc3(x)\n",
        "        return self.softmax(x)\n",
        "\n",
        "net = Net() # make an instance\n",
        "print(net) # check the architecture\n",
        "print(net(torch.randn(10,1,128,128))) # see the network works correctly with an arbitrary input"
      ]
    },
    {
      "cell_type": "markdown",
      "metadata": {
        "id": "Gu_mmMSyzOjI"
      },
      "source": [
        "### 7. Define a loss function and optimizer"
      ]
    },
    {
      "cell_type": "code",
      "execution_count": 10,
      "metadata": {
        "id": "CYp4VRDTvfmi"
      },
      "outputs": [],
      "source": [
        "def criterion(y_pred, y_true):\n",
        "    y_pred = torch.clamp(y_pred, 1e-9, 1 - 1e-9)\n",
        "    return -(y_true * torch.log(y_pred)).sum(dim=1).mean()\n",
        "\n",
        "optimizer = optim.Adam(net.parameters(), lr=Learning_rate)\n",
        "optimizer.state = collections.defaultdict(dict) # network initialization"
      ]
    },
    {
      "cell_type": "markdown",
      "metadata": {
        "id": "WsNsklFMzO9K"
      },
      "source": [
        "### 8. Train the network and print the train/validation accuracy output"
      ]
    },
    {
      "cell_type": "code",
      "execution_count": 11,
      "metadata": {
        "id": "xw30MO4UvhhQ",
        "outputId": "8f62ddbd-5758-4e9d-eb7e-176cb3b34fd3",
        "colab": {
          "base_uri": "https://localhost:8080/"
        }
      },
      "outputs": [
        {
          "output_type": "stream",
          "name": "stdout",
          "text": [
            "Epoch  0\n",
            "Training loss (average) : 1.3814697388521175\n",
            "Training accuracy       : 27.990663295078775 %\n",
            "Validation loss (average) : 1.3796602487564087\n",
            "Validation accuracy       : 27.32049036777583 %\n",
            "Epoch  1\n",
            "Training loss (average) : 1.3443855522810961\n",
            "Training accuracy       : 27.990663295078775 %\n",
            "Validation loss (average) : 1.3425216674804688\n",
            "Validation accuracy       : 27.32049036777583 %\n",
            "Epoch  2\n",
            "Training loss (average) : 1.2820649437810678\n",
            "Training accuracy       : 33.028593658821244 %\n",
            "Validation loss (average) : 1.2795523405075073\n",
            "Validation accuracy       : 33.09982486865149 %\n",
            "Epoch  3\n",
            "Training loss (average) : 1.2061421200357691\n",
            "Training accuracy       : 48.10348181287687 %\n",
            "Validation loss (average) : 1.2032982110977173\n",
            "Validation accuracy       : 48.51138353765324 %\n",
            "Epoch  4\n",
            "Training loss (average) : 1.1394025984266765\n",
            "Training accuracy       : 50.74888154055631 %\n",
            "Validation loss (average) : 1.1373064517974854\n",
            "Validation accuracy       : 51.66374781085814 %\n",
            "Epoch  5\n",
            "Training loss (average) : 1.0758396892133935\n",
            "Training accuracy       : 55.63120015561175 %\n",
            "Validation loss (average) : 1.071108102798462\n",
            "Validation accuracy       : 56.56742556917689 %\n",
            "Epoch  6\n",
            "Training loss (average) : 1.0090823340476243\n",
            "Training accuracy       : 59.50204240420152 %\n",
            "Validation loss (average) : 1.0082578659057617\n",
            "Validation accuracy       : 59.89492119089317 %\n",
            "Epoch  7\n",
            "Training loss (average) : 0.9474260609707835\n",
            "Training accuracy       : 64.94845360824742 %\n",
            "Validation loss (average) : 0.9450781941413879\n",
            "Validation accuracy       : 64.62346760070052 %\n",
            "Epoch  8\n",
            "Training loss (average) : 0.8889097031325456\n",
            "Training accuracy       : 66.60182843804708 %\n",
            "Validation loss (average) : 0.8868296146392822\n",
            "Validation accuracy       : 66.37478108581436 %\n",
            "Epoch  9\n",
            "Training loss (average) : 0.8490786502459151\n",
            "Training accuracy       : 69.6168060688582 %\n",
            "Validation loss (average) : 0.8500931859016418\n",
            "Validation accuracy       : 68.30122591943957 %\n"
          ]
        }
      ],
      "source": [
        "batch_number=int((len(selected_training_data)-0.5)/batch_size)+1\n",
        "train_loss_epoch = []\n",
        "val_loss_epoch = []\n",
        "train_acc_epoch = []\n",
        "val_acc_epoch = []\n",
        "for epoch in range(Epoch):\n",
        "    net.train()\n",
        "    for batch in range(batch_number):\n",
        "        train_x, train_y, x_size = batch_sampling(batch)\n",
        "        optimizer.zero_grad()  # Gradient Reset\n",
        "        output = net(train_x)\n",
        "        loss = criterion(output, train_y)\n",
        "        loss.backward()  # Back propagation\n",
        "        optimizer.step()\n",
        "\n",
        "    with torch.no_grad():\n",
        "        net.eval()\n",
        "        print(\"Epoch \", epoch)\n",
        "        training_loss=0\n",
        "        training_accuracy=0\n",
        "        for batch in range(batch_number):\n",
        "            train_x, train_y, x_size = batch_sampling(batch)\n",
        "            output = net(train_x)\n",
        "            training_loss += x_size*criterion(output, train_y).item()\n",
        "            _, predicted = torch.max(output.data, 1)\n",
        "            _, label_index = torch.max(train_y, 1)\n",
        "            training_accuracy+=(predicted == label_index).sum().item()\n",
        "\n",
        "        training_accuracy=training_accuracy/len(selected_training_data)\n",
        "        training_loss=training_loss/len(selected_training_data)\n",
        "        train_acc_epoch.append(training_accuracy)\n",
        "        train_loss_epoch.append(training_loss)\n",
        "\n",
        "        print(\"Training loss (average) :\", training_loss)\n",
        "        print(\"Training accuracy       :\", training_accuracy * 100,\"%\")\n",
        "\n",
        "        validation_loss=0\n",
        "        validation_accuracy=0\n",
        "        val_x, val_y, x_size=extract_validation_data()\n",
        "        output = net(val_x)\n",
        "\n",
        "        validation_loss += x_size * criterion(output, val_y).item()\n",
        "\n",
        "        _, predicted_v = torch.max(output.data, 1)\n",
        "        _, label_index_v = torch.max(val_y, 1)\n",
        "        validation_accuracy += (predicted_v == label_index_v).sum().item()\n",
        "        validation_accuracy=validation_accuracy/len(validation_data)\n",
        "        validation_loss = validation_loss / len(validation_data)\n",
        "        val_acc_epoch.append(validation_accuracy)\n",
        "        val_loss_epoch.append(validation_loss)\n",
        "\n",
        "        print(\"Validation loss (average) :\", validation_loss)\n",
        "        print(\"Validation accuracy       :\", validation_accuracy * 100, \"%\")"
      ]
    },
    {
      "cell_type": "markdown",
      "metadata": {
        "id": "jKBZN8zxLtfU"
      },
      "source": [
        "### 9. Plot learning curves"
      ]
    },
    {
      "cell_type": "code",
      "execution_count": 12,
      "metadata": {
        "id": "NcvV6Dn4LtfU",
        "outputId": "3df345dd-1d78-4501-cada-9d58863468b1",
        "colab": {
          "base_uri": "https://localhost:8080/",
          "height": 582
        }
      },
      "outputs": [
        {
          "output_type": "execute_result",
          "data": {
            "text/plain": [
              "<matplotlib.legend.Legend at 0x7b7d1f61aa40>"
            ]
          },
          "metadata": {},
          "execution_count": 12
        },
        {
          "output_type": "display_data",
          "data": {
            "text/plain": [
              "<Figure size 1600x600 with 2 Axes>"
            ],
            "image/png": "[encoded data removed]"
          },
          "metadata": {}
        }
      ],
      "source": [
        "fig, axs = plt.subplots(1, 2, figsize=(16, 6))\n",
        "\n",
        "axs[0].plot(train_loss_epoch, label = 'train')\n",
        "axs[0].plot(val_loss_epoch, label = 'val')\n",
        "axs[0].set_title('Loss')\n",
        "axs[0].set_xlabel('Epoch')\n",
        "axs[0].legend()\n",
        "\n",
        "axs[1].plot(train_acc_epoch, label = 'train')\n",
        "axs[1].plot(val_acc_epoch, label = 'val')\n",
        "axs[1].set_title('Accuracy')\n",
        "axs[1].set_xlabel('Epoch')\n",
        "axs[1].legend()\n"
      ]
    },
    {
      "cell_type": "markdown",
      "source": [
        "### 10. Classify test dataset"
      ],
      "metadata": {
        "id": "0THyNyudKkQ6"
      }
    },
    {
      "cell_type": "code",
      "source": [
        "output = net(torch.from_numpy(np.array(test_data)).float())\n",
        "accuracy_list = [torch.equal(torch.argmax(output[i]), torch.argmax(test_label[i]))\n",
        "          for i in range(test_label.size(0))]\n",
        "accuracy = sum(accuracy_list) / len(accuracy_list)\n",
        "print(\"Test accuracy       :\", accuracy * 100, \"%\")"
      ],
      "metadata": {
        "id": "vCQdhSdkKPtJ",
        "outputId": "b3a12ef6-df76-48db-8ec7-377d9ad6dccb",
        "colab": {
          "base_uri": "https://localhost:8080/"
        }
      },
      "execution_count": 13,
      "outputs": [
        {
          "output_type": "stream",
          "name": "stdout",
          "text": [
            "Test accuracy       : 62.92906178489702 %\n"
          ]
        }
      ]
    }
  ],
  "metadata": {
    "colab": {
      "provenance": [],
      "gpuType": "T4",
      "include_colab_link": true
    },
    "kernelspec": {
      "display_name": "Python 3",
      "name": "python3"
    },
    "language_info": {
      "codemirror_mode": {
        "name": "ipython",
        "version": 3
      },
      "file_extension": ".py",
      "mimetype": "text/x-python",
      "name": "python",
      "nbconvert_exporter": "python",
      "pygments_lexer": "ipython3",
      "version": "3.10.11"
    },
    "accelerator": "GPU"
  },
  "nbformat": 4,
  "nbformat_minor": 0
}