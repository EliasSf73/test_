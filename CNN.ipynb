{
  "nbformat": 4,
  "nbformat_minor": 0,
  "metadata": {
    "colab": {
      "provenance": [],
      "authorship_tag": "ABX9TyPcP4eNOdir2aItxzSHSvT1",
      "include_colab_link": true
    },
    "kernelspec": {
      "name": "python3",
      "display_name": "Python 3"
    },
    "language_info": {
      "name": "python"
    }
  },
  "cells": [
    {
      "cell_type": "markdown",
      "metadata": {
        "id": "view-in-github",
        "colab_type": "text"
      },
      "source": [
        "<a href=\"https://colab.research.google.com/github/EliasSf73/test_/blob/master/CNN.ipynb\" target=\"_parent\"><img src=\"https://colab.research.google.com/assets/colab-badge.svg\" alt=\"Open In Colab\"/></a>"
      ]
    },
    {
      "cell_type": "markdown",
      "source": [
        "basic libraries"
      ],
      "metadata": {
        "id": "8yp9r97V_8MT"
      }
    },
    {
      "cell_type": "code",
      "execution_count": 1,
      "metadata": {
        "id": "IRGKDo-n0qlP"
      },
      "outputs": [],
      "source": [
        "import torch\n",
        "import torch.nn as nn\n",
        "import torch.nn.functional as F\n",
        "from torch.utils.data import DataLoader\n",
        "from torchvision import datasets,transforms\n",
        "from torchvision.utils import make_grid\n",
        "\n",
        "import numpy as np\n",
        "import pandas as pd\n",
        "from sklearn.metrics import confusion_matrix\n",
        "import matplotlib.pyplot as plt\n",
        "%matplotlib inline"
      ]
    },
    {
      "cell_type": "markdown",
      "source": [
        "Convert MNIST  dataset in to 4D-Tensor: # of images, heights,widths,color channel"
      ],
      "metadata": {
        "id": "UpgqWrPkFzn6"
      }
    },
    {
      "cell_type": "code",
      "source": [
        "transform=transforms.ToTensor()"
      ],
      "metadata": {
        "id": "5P6AzcvYABkC"
      },
      "execution_count": 2,
      "outputs": []
    },
    {
      "cell_type": "markdown",
      "source": [
        "TRAIN DATA"
      ],
      "metadata": {
        "id": "WK82ygZAGTr7"
      }
    },
    {
      "cell_type": "code",
      "source": [
        "train_data=datasets.MNIST(root='/CNN_dataset',train=True,download=True,transform=transform)"
      ],
      "metadata": {
        "colab": {
          "base_uri": "https://localhost:8080/"
        },
        "id": "3w1Q2Rr-GWfH",
        "outputId": "f62d19f5-67cc-44e6-cf16-391906af356e"
      },
      "execution_count": 3,
      "outputs": [
        {
          "output_type": "stream",
          "name": "stdout",
          "text": [
            "Downloading http://yann.lecun.com/exdb/mnist/train-images-idx3-ubyte.gz\n",
            "Downloading http://yann.lecun.com/exdb/mnist/train-images-idx3-ubyte.gz to /CNN_dataset/MNIST/raw/train-images-idx3-ubyte.gz\n"
          ]
        },
        {
          "output_type": "stream",
          "name": "stderr",
          "text": [
            "100%|██████████| 9912422/9912422 [00:00<00:00, 276601608.98it/s]"
          ]
        },
        {
          "output_type": "stream",
          "name": "stdout",
          "text": [
            "Extracting /CNN_dataset/MNIST/raw/train-images-idx3-ubyte.gz to /CNN_dataset/MNIST/raw\n"
          ]
        },
        {
          "output_type": "stream",
          "name": "stderr",
          "text": [
            "\n"
          ]
        },
        {
          "output_type": "stream",
          "name": "stdout",
          "text": [
            "\n",
            "Downloading http://yann.lecun.com/exdb/mnist/train-labels-idx1-ubyte.gz\n",
            "Downloading http://yann.lecun.com/exdb/mnist/train-labels-idx1-ubyte.gz to /CNN_dataset/MNIST/raw/train-labels-idx1-ubyte.gz\n"
          ]
        },
        {
          "output_type": "stream",
          "name": "stderr",
          "text": [
            "100%|██████████| 28881/28881 [00:00<00:00, 77601341.34it/s]\n"
          ]
        },
        {
          "output_type": "stream",
          "name": "stdout",
          "text": [
            "Extracting /CNN_dataset/MNIST/raw/train-labels-idx1-ubyte.gz to /CNN_dataset/MNIST/raw\n",
            "\n",
            "Downloading http://yann.lecun.com/exdb/mnist/t10k-images-idx3-ubyte.gz\n",
            "Downloading http://yann.lecun.com/exdb/mnist/t10k-images-idx3-ubyte.gz to /CNN_dataset/MNIST/raw/t10k-images-idx3-ubyte.gz\n"
          ]
        },
        {
          "output_type": "stream",
          "name": "stderr",
          "text": [
            "100%|██████████| 1648877/1648877 [00:00<00:00, 172690056.85it/s]"
          ]
        },
        {
          "output_type": "stream",
          "name": "stdout",
          "text": [
            "Extracting /CNN_dataset/MNIST/raw/t10k-images-idx3-ubyte.gz to /CNN_dataset/MNIST/raw\n"
          ]
        },
        {
          "output_type": "stream",
          "name": "stderr",
          "text": [
            "\n"
          ]
        },
        {
          "output_type": "stream",
          "name": "stdout",
          "text": [
            "\n",
            "Downloading http://yann.lecun.com/exdb/mnist/t10k-labels-idx1-ubyte.gz\n",
            "Downloading http://yann.lecun.com/exdb/mnist/t10k-labels-idx1-ubyte.gz to /CNN_dataset/MNIST/raw/t10k-labels-idx1-ubyte.gz\n"
          ]
        },
        {
          "output_type": "stream",
          "name": "stderr",
          "text": [
            "100%|██████████| 4542/4542 [00:00<00:00, 3316018.93it/s]\n"
          ]
        },
        {
          "output_type": "stream",
          "name": "stdout",
          "text": [
            "Extracting /CNN_dataset/MNIST/raw/t10k-labels-idx1-ubyte.gz to /CNN_dataset/MNIST/raw\n",
            "\n"
          ]
        }
      ]
    },
    {
      "cell_type": "markdown",
      "source": [
        "TEST DATA"
      ],
      "metadata": {
        "id": "FgJXcB6fHVno"
      }
    },
    {
      "cell_type": "code",
      "source": [
        "test_data=datasets.MNIST('/CNN_dataset',train=False,download=True,transform=transform)"
      ],
      "metadata": {
        "id": "8iHRAUA7HYnD"
      },
      "execution_count": 4,
      "outputs": []
    },
    {
      "cell_type": "code",
      "source": [
        "train_data"
      ],
      "metadata": {
        "colab": {
          "base_uri": "https://localhost:8080/"
        },
        "id": "GgTUWi70HpCH",
        "outputId": "4a28e686-7670-48d3-e514-d1983a46a79a"
      },
      "execution_count": 5,
      "outputs": [
        {
          "output_type": "execute_result",
          "data": {
            "text/plain": [
              "Dataset MNIST\n",
              "    Number of datapoints: 60000\n",
              "    Root location: /CNN_dataset\n",
              "    Split: Train\n",
              "    StandardTransform\n",
              "Transform: ToTensor()"
            ]
          },
          "metadata": {},
          "execution_count": 5
        }
      ]
    },
    {
      "cell_type": "code",
      "source": [
        "test_data"
      ],
      "metadata": {
        "colab": {
          "base_uri": "https://localhost:8080/"
        },
        "id": "fBloKBlYHtuY",
        "outputId": "3ef60fb8-9e08-4e13-d2ea-837d7c666c6e"
      },
      "execution_count": 6,
      "outputs": [
        {
          "output_type": "execute_result",
          "data": {
            "text/plain": [
              "Dataset MNIST\n",
              "    Number of datapoints: 10000\n",
              "    Root location: /CNN_dataset\n",
              "    Split: Test\n",
              "    StandardTransform\n",
              "Transform: ToTensor()"
            ]
          },
          "metadata": {},
          "execution_count": 6
        }
      ]
    },
    {
      "cell_type": "markdown",
      "source": [
        "Create a batch size for the images: 10 for this project"
      ],
      "metadata": {
        "id": "ulvIHHd_JHaP"
      }
    },
    {
      "cell_type": "code",
      "source": [
        "train_loader=DataLoader(train_data,batch_size=10,shuffle=True)\n",
        "test_loader=DataLoader(test_data,batch_size=10,shuffle=False)"
      ],
      "metadata": {
        "id": "gdxzXFIsJPiA"
      },
      "execution_count": 7,
      "outputs": []
    },
    {
      "cell_type": "markdown",
      "source": [
        "THE MODEL"
      ],
      "metadata": {
        "id": "Vs8dVhX5NLxg"
      }
    },
    {
      "cell_type": "code",
      "source": [
        "class ConvNetwork(nn.Module):\n",
        "  def __init__(self):\n",
        "    super().__init__()\n",
        "    # locally connected convolutional layers\n",
        "    self.conv1=nn.Conv2d(1,6,3,1)  # num_inputs,num_outputs,kernel size, step/strides taken by kernel\n",
        "    self.conv2=nn.Conv2d(6,16,3,1)\n",
        "    # fully connected layers from ordinary neural network\n",
        "    self.layer1=nn.Linear(5*5*16,120)\n",
        "    self.layer2=nn.Linear(120,84)\n",
        "    self.layer3=nn.Linear(84,10) # 10 is number of classes\n",
        "\n",
        "  def forward(self,x):\n",
        "    #1st pass\n",
        "    x=F.relu(self.conv1(x))\n",
        "    x=F.max_pool2d(x,2,2) # 2*2 kernel for pooling with 2 strides\n",
        "    # second pass\n",
        "    x=F.relu(self.conv2(x))\n",
        "    x=F.max_pool2d(x,2,2)\n",
        "    # change 'view' of x to flatten it out before passing to 'layer1'\n",
        "    x=x.view(-1,16*5*5)\n",
        "    # pass to fully_connected layer\n",
        "    x=F.relu(self.layer1(x))\n",
        "    x=F.relu(self.layer2(x))\n",
        "    x=F.relu(self.layer3(x))\n",
        "    # get modified x back\n",
        "    return F.log_softmax(x,dim=1)"
      ],
      "metadata": {
        "id": "TdH6ZgyqNNtd"
      },
      "execution_count": 16,
      "outputs": []
    },
    {
      "cell_type": "code",
      "source": [
        "torch.manual_seed(42)\n",
        "model=ConvNetwork()\n",
        "model"
      ],
      "metadata": {
        "colab": {
          "base_uri": "https://localhost:8080/"
        },
        "id": "TOjF6JgVSEQv",
        "outputId": "2f1dae69-ec57-4379-f37b-f0ade98fd946"
      },
      "execution_count": 26,
      "outputs": [
        {
          "output_type": "execute_result",
          "data": {
            "text/plain": [
              "ConvNetwork(\n",
              "  (conv1): Conv2d(1, 6, kernel_size=(3, 3), stride=(1, 1))\n",
              "  (conv2): Conv2d(6, 16, kernel_size=(3, 3), stride=(1, 1))\n",
              "  (layer1): Linear(in_features=400, out_features=120, bias=True)\n",
              "  (layer2): Linear(in_features=120, out_features=84, bias=True)\n",
              "  (layer3): Linear(in_features=84, out_features=10, bias=True)\n",
              ")"
            ]
          },
          "metadata": {},
          "execution_count": 26
        }
      ]
    },
    {
      "cell_type": "markdown",
      "source": [
        "OPTIMIZATION"
      ],
      "metadata": {
        "id": "HQFfGrOVSx9u"
      }
    },
    {
      "cell_type": "code",
      "source": [
        "loss_module=nn.CrossEntropyLoss()\n",
        "optimizer=torch.optim.Adam(model.parameters(),lr=0.001)"
      ],
      "metadata": {
        "id": "xqqHxtstS0QM"
      },
      "execution_count": 27,
      "outputs": []
    },
    {
      "cell_type": "markdown",
      "source": [
        "TRAIN AND EVALUATE"
      ],
      "metadata": {
        "id": "rtLaNVqCwZww"
      }
    },
    {
      "cell_type": "code",
      "source": [
        "epochs=5\n",
        "for epoch in range(epochs):\n",
        "  train_cr=0\n",
        "  test_cr=0\n",
        "  for i,(X_train,y_train) in enumerate(train_loader):\n",
        "    i+=1     #start our batches at 1\n",
        "    y_pred=model(X_train)  # predict values\n",
        "    loss=loss_module(y_pred,y_train)      # compute associated losses: how off is the prediction?\n",
        "\n",
        "\n",
        "    # update parameters\n",
        "    optimizer.zero_grad()\n",
        "    loss.backward()\n",
        "    optimizer.step()\n",
        "\n",
        "    # print some results\n",
        "    if i%500==0:\n",
        "      print(f'epoch: {epoch}, batch: {i}, loss: {loss.item()}')\n",
        "\n",
        "\n",
        "  # Test on test dataset\n",
        "  with torch.no_grad():\n",
        "    for j,(X_test,y_test) in enumerate(test_loader):\n",
        "      y_val=model(X_test)\n",
        "      loss=loss_module(y_val,y_test)"
      ],
      "metadata": {
        "id": "rNY7yHU85HCl"
      },
      "execution_count": null,
      "outputs": []
    }
  ]
}