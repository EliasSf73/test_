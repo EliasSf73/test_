{
  "cells": [
    {
      "cell_type": "markdown",
      "metadata": {
        "id": "view-in-github",
        "colab_type": "text"
      },
      "source": [
        "<a href=\"https://colab.research.google.com/github/EliasSf73/test_/blob/master/DeepLearning%20Homework.ipynb\" target=\"_parent\"><img src=\"https://colab.research.google.com/assets/colab-badge.svg\" alt=\"Open In Colab\"/></a>"
      ]
    },
    {
      "cell_type": "markdown",
      "metadata": {
        "id": "td7Wvn3OIib4"
      },
      "source": [
        "# Homework 5 (Full mark: 100pt)"
      ]
    },
    {
      "cell_type": "markdown",
      "metadata": {
        "id": "2nGWcTthIib5"
      },
      "source": [
        "You can use ``Google Colab`` if you would like to use GPU.\n",
        "- https://colab.research.google.com/notebooks/welcome.ipynb\n",
        "- https://theorydb.github.io/dev/2019/08/23/dev-ml-colab/"
      ]
    },
    {
      "cell_type": "markdown",
      "metadata": {
        "id": "pGoZk-gMIib5"
      },
      "source": [
        "# 1. Regression (50pt)\n",
        "\n",
        "**For this question, using PyTorch, implement the 1) ridge regression and 2) Lasso. You can refer to the tutorial link below for how to implement linear regression. Note that the ridge regression is the linear regression with L2 penalty, and the Lasso is the linear regression with L1 penalty. You should use ````Boston```` dataset as shown in the code below. You should not only write the code for the models, but also train them and show the test MSE.**\n",
        "- https://github.com/yunjey/pytorch-tutorial/blob/master/tutorials/01-basics/linear_regression/main.py"
      ]
    },
    {
      "cell_type": "markdown",
      "metadata": {
        "id": "tPRslZC8Iib5"
      },
      "source": [
        "<div>\n",
        "<img src=\"figures/regressions.png\" width=\"700\"/>\n",
        "</div>"
      ]
    },
    {
      "cell_type": "code",
      "source": [
        "#mount drive\n",
        "from google.colab import drive\n",
        "drive.mount('/content/drive')"
      ],
      "metadata": {
        "colab": {
          "base_uri": "https://localhost:8080/"
        },
        "id": "tsYeWVYTIjTB",
        "outputId": "d3e23d85-22a5-4f95-db88-d288b40d9542"
      },
      "execution_count": 1,
      "outputs": [
        {
          "output_type": "stream",
          "name": "stdout",
          "text": [
            "Mounted at /content/drive\n"
          ]
        }
      ]
    },
    {
      "cell_type": "code",
      "execution_count": 31,
      "metadata": {
        "id": "5ThMXQQFIib5"
      },
      "outputs": [],
      "source": [
        "import pandas as pd\n",
        "from sklearn.model_selection import train_test_split\n",
        "import torch\n",
        "import torch.nn as nn\n",
        "import numpy as np\n",
        "import matplotlib.pyplot as plt\n",
        "from torch import optim\n",
        "# To fix the random seed\n",
        "torch.manual_seed(0)\n",
        "torch.cuda.manual_seed_all(0)\n",
        "torch.backends.cudnn.deterministic = True\n",
        "torch.backends.cudnn.benchmark = False\n",
        "\n",
        "# load data\n",
        "boston = pd.read_csv('/content/drive/MyDrive/stat ML/Lab_9/HW5/data/Boston.csv').drop('Unnamed: 0', axis=1)\n",
        "data = torch.FloatTensor(boston.values)\n",
        "X = data[:,:-1] # Input (X)\n",
        "y = data[:,-1].reshape(-1, 1) # Ground Truth (y)\n",
        "\n",
        "X_train, X_test, y_train, y_test = train_test_split(X, y, test_size=0.20, random_state=42)"
      ]
    },
    {
      "cell_type": "markdown",
      "source": [
        "# Training without regularization"
      ],
      "metadata": {
        "id": "ie-ZTDsgX6Nj"
      }
    },
    {
      "cell_type": "code",
      "source": [
        "from sklearn.preprocessing import StandardScaler\n",
        "scaler = StandardScaler()\n",
        "# Fit the scaler to the training data only\n",
        "# X_train = scaler.fit_transform(X_train.numpy())  # Converting torch tensor to numpy array for scaling\n",
        "# X_test = scaler.transform(X_test.numpy())\n",
        "\n",
        "# Convert arrays back to tensors\n",
        "X_train = torch.tensor(X_train, dtype=torch.float)\n",
        "X_test = torch.tensor(X_test, dtype=torch.float)\n",
        "y_train = torch.tensor(y_train, dtype=torch.float)\n",
        "y_test = torch.tensor(y_test, dtype=torch.float)\n",
        "\n",
        "model=nn.Linear(13,1)\n",
        "\n",
        "criterion=nn.MSELoss()\n",
        "optimizer=torch.optim.SGD(model.parameters(),lr=0.0003)\n",
        "epochs=10\n",
        "# for epoch in range(epochs):\n",
        "#   model.train()\n",
        "#   #forward\n",
        "#   outputs=model(X_train)\n",
        "#   loss=criterion(outputs,y_train)\n",
        "#   #backward\n",
        "#   optimizer.zero_grad()\n",
        "#   loss.backward()\n",
        "#   optimizer.step()\n",
        "#   print('epoch [{}/{}], loss:{:.4f}'.format(epoch+1,epochs,loss.item()))\n"
      ],
      "metadata": {
        "colab": {
          "base_uri": "https://localhost:8080/"
        },
        "id": "vCIEksApKplo",
        "outputId": "2cd080c8-201b-4943-8d45-fddd3e716036"
      },
      "execution_count": 32,
      "outputs": [
        {
          "output_type": "stream",
          "name": "stderr",
          "text": [
            "<ipython-input-32-ee2d82278401>:8: UserWarning: To copy construct from a tensor, it is recommended to use sourceTensor.clone().detach() or sourceTensor.clone().detach().requires_grad_(True), rather than torch.tensor(sourceTensor).\n",
            "  X_train = torch.tensor(X_train, dtype=torch.float)\n",
            "<ipython-input-32-ee2d82278401>:9: UserWarning: To copy construct from a tensor, it is recommended to use sourceTensor.clone().detach() or sourceTensor.clone().detach().requires_grad_(True), rather than torch.tensor(sourceTensor).\n",
            "  X_test = torch.tensor(X_test, dtype=torch.float)\n",
            "<ipython-input-32-ee2d82278401>:10: UserWarning: To copy construct from a tensor, it is recommended to use sourceTensor.clone().detach() or sourceTensor.clone().detach().requires_grad_(True), rather than torch.tensor(sourceTensor).\n",
            "  y_train = torch.tensor(y_train, dtype=torch.float)\n",
            "<ipython-input-32-ee2d82278401>:11: UserWarning: To copy construct from a tensor, it is recommended to use sourceTensor.clone().detach() or sourceTensor.clone().detach().requires_grad_(True), rather than torch.tensor(sourceTensor).\n",
            "  y_test = torch.tensor(y_test, dtype=torch.float)\n"
          ]
        }
      ]
    },
    {
      "cell_type": "markdown",
      "source": [
        "# Training with Lasso and Ridge regularizations"
      ],
      "metadata": {
        "id": "xg64vCStYALn"
      }
    },
    {
      "cell_type": "code",
      "execution_count": 34,
      "metadata": {
        "colab": {
          "base_uri": "https://localhost:8080/",
          "height": 1000
        },
        "id": "xNwWmp4pIib6",
        "outputId": "0edefb14-12b9-41d7-a404-95d62d5e21a8"
      },
      "outputs": [
        {
          "output_type": "stream",
          "name": "stdout",
          "text": [
            "Epoch [1/100], Training Loss: 620.4901\n",
            "Test MSE: 545.8877\n",
            "Epoch [11/100], Training Loss: 611.1068\n",
            "Test MSE: 538.3922\n",
            "Epoch [21/100], Training Loss: 601.9890\n",
            "Test MSE: 531.1123\n",
            "Epoch [31/100], Training Loss: 593.1232\n",
            "Test MSE: 524.0356\n",
            "Epoch [41/100], Training Loss: 584.4961\n",
            "Test MSE: 517.1504\n",
            "Epoch [51/100], Training Loss: 576.0969\n",
            "Test MSE: 510.4457\n",
            "Epoch [61/100], Training Loss: 567.9136\n",
            "Test MSE: 503.9118\n",
            "Epoch [71/100], Training Loss: 559.9349\n",
            "Test MSE: 497.5394\n",
            "Epoch [81/100], Training Loss: 552.1508\n",
            "Test MSE: 491.3198\n",
            "Epoch [91/100], Training Loss: 544.5531\n",
            "Test MSE: 485.2455\n"
          ]
        },
        {
          "output_type": "display_data",
          "data": {
            "text/plain": [
              "<Figure size 1000x500 with 1 Axes>"
            ],
            "image/png": "[encoded data removed]"
          },
          "metadata": {}
        },
        {
          "output_type": "stream",
          "name": "stdout",
          "text": [
            "Epoch [1/100], Training Loss: 595.9422\n",
            "Test MSE: 524.6331\n",
            "Epoch [11/100], Training Loss: 587.1890\n",
            "Test MSE: 517.6660\n",
            "Epoch [21/100], Training Loss: 578.6702\n",
            "Test MSE: 510.8861\n",
            "Epoch [31/100], Training Loss: 570.3740\n",
            "Test MSE: 504.2834\n",
            "Epoch [41/100], Training Loss: 562.2894\n",
            "Test MSE: 497.8478\n",
            "Epoch [51/100], Training Loss: 554.4059\n",
            "Test MSE: 491.5704\n",
            "Epoch [61/100], Training Loss: 546.7141\n",
            "Test MSE: 485.4427\n",
            "Epoch [71/100], Training Loss: 539.2047\n",
            "Test MSE: 479.4569\n",
            "Epoch [81/100], Training Loss: 531.8695\n",
            "Test MSE: 473.6057\n",
            "Epoch [91/100], Training Loss: 524.7005\n",
            "Test MSE: 467.8824\n"
          ]
        },
        {
          "output_type": "display_data",
          "data": {
            "text/plain": [
              "<Figure size 1000x500 with 1 Axes>"
            ],
            "image/png": "[encoded data removed]"
          },
          "metadata": {}
        }
      ],
      "source": [
        "from pickle import NONE\n",
        "num_epochs = 100\n",
        "learning_rate = 0.0003\n",
        "\n",
        "class Ridge(nn.Module):\n",
        "    def __init__(self, input_dim, alpha=None):\n",
        "        super().__init__()\n",
        "        ## Write your answer here\n",
        "        # regularization parameter\n",
        "        self.alpha=alpha\n",
        "        #linear model\n",
        "        self.linear=nn.Linear(input_dim,1)\n",
        "\n",
        "    def forward(self, X):\n",
        "        ## Write your answer here\n",
        "        return self.linear(X)\n",
        "    def regularization_loss(self):\n",
        "      ridge=self.alpha*torch.norm(self.linear.weight,p=2)**2\n",
        "      return ridge\n",
        "\n",
        "class Lasso(nn.Module):\n",
        "    def __init__(self, input_dim,alpha=None):\n",
        "        super().__init__()\n",
        "        ## Write your answer here\n",
        "        #linear model\n",
        "        self.linear=nn.Linear(input_dim,1)\n",
        "        #regularization parameter\n",
        "        self.alpha=alpha\n",
        "\n",
        "    def forward(self, X):\n",
        "      return self.linear(X)\n",
        "\n",
        "    def regularization_loss(self):\n",
        "      lasso=self.alpha*torch.norm(self.linear.weight,p=1)\n",
        "      return lasso\n",
        "        ## Write your answer here\n",
        "\n",
        "\n",
        "\n",
        "## Write your answer here (Training code)\n",
        "def train_model(model, X_train, y_train, X_test, y_test, num_epochs=100, learning_rate=0.003):\n",
        "    criterion = nn.MSELoss()\n",
        "    optimizer = optim.SGD(model.parameters(), learning_rate)\n",
        "\n",
        "    # Lists to store loss and accuracy for plotting\n",
        "    training_losses = []\n",
        "    test_mses = []\n",
        "\n",
        "    for epoch in range(num_epochs):\n",
        "        # Set model to training mode\n",
        "        model.train()\n",
        "\n",
        "        # Reset all gradients\n",
        "        optimizer.zero_grad()\n",
        "\n",
        "        # Forward pass\n",
        "        outputs = model(X_train)\n",
        "\n",
        "        # Compute and accumulate loss\n",
        "        loss = criterion(outputs, y_train) + model.regularization_loss()\n",
        "\n",
        "        # Backward pass and optimize\n",
        "        loss.backward()\n",
        "        optimizer.step()\n",
        "\n",
        "        # Save the current training loss\n",
        "        training_losses.append(loss.item())\n",
        "\n",
        "        # Print training loss\n",
        "        if epoch % 10 == 0:\n",
        "            print(f'Epoch [{epoch+1}/{num_epochs}], Training Loss: {loss.item():.4f}')\n",
        "\n",
        "        # Evaluate the model on the test set\n",
        "        model.eval()\n",
        "        with torch.no_grad():\n",
        "            predictions = model(X_test)\n",
        "            mse = criterion(predictions, y_test)\n",
        "            test_mses.append(mse.item())\n",
        "\n",
        "        # Print test MSE\n",
        "        if epoch % 10 == 0:\n",
        "            print(f'Test MSE: {mse.item():.4f}')\n",
        "\n",
        "    # Plot the training and test losses\n",
        "    plt.figure(figsize=(10, 5))\n",
        "    plt.plot(training_losses, label='Training Loss')\n",
        "    plt.plot(test_mses, label='Test MSE')\n",
        "    plt.xlabel('Epoch')\n",
        "    plt.ylabel('Loss')\n",
        "    plt.title('Training Loss and Test MSE Over Epochs')\n",
        "    plt.legend()\n",
        "    plt.show()\n",
        "\n",
        "\n",
        "from sklearn.preprocessing import StandardScaler\n",
        "scaler = StandardScaler()\n",
        "X_train = scaler.fit_transform(X_train)\n",
        "X_test = scaler.transform(X_test)\n",
        "\n",
        "## Train Ridge and Lasso and show the final test MSE.\n",
        "input_dim=X_train.shape[1]\n",
        "#instantiate lasso model\n",
        "lasso_model=Lasso(input_dim,alpha=0.01)\n",
        "#instantiate ridge model\n",
        "ridge_model=Ridge(input_dim,alpha=0.01)\n",
        "#train with lasso model\n",
        "train_model(lasso_model,torch.tensor(X_train, dtype=torch.float),y_train,torch.tensor(X_test, dtype=torch.float),y_test,num_epochs,learning_rate)\n",
        "#train with ridge model\n",
        "train_model(ridge_model,torch.tensor(X_train, dtype=torch.float),y_train,torch.tensor(X_test, dtype=torch.float),y_test,num_epochs,learning_rate)\n",
        "\n",
        ""
      ]
    },
    {
      "cell_type": "markdown",
      "metadata": {
        "id": "ArKyNLBJIib6"
      },
      "source": [
        "# 2. Autoencoder (50pt)\n",
        "**Autoencoder is an unsupervised neural network model for learning representations of the input. In the figure below, you can see the structure of an autoencoder network. Given the original input image, we first encode the image using ``Encoder`` to a compressed representation, and reconstruct the image by using ``Decoder`` given the compressed representation. The compressed represesntation can be used as the dimension reduced representation of the original input. In this regard, autoencoder is also known as a model for dimensionality reduction (Recall PCA was also a method for dimensionality reduction). Note that the encoder and the decoder can be any neural network model such as MLP, CNN, MLP, etc.**\n",
        "\n",
        "**For this question, you will use MNIST dataset to implement two versions of autoencoders: 1) An MLP-based autoencoder, and 2) A CNN-based autoencoder. The figure below shows an example of the MLP-based autoencoder. For the MLP-based autoencoder, you should follow the structure of the autoencoder shown in the figure below. For the CNN-based autoencoder, you are free to choose the architecture. You only need to implement ``Autoencoder_MLP`` class and ``Autoencoder_CNN`` class. Note that for ``Autoencoder_MLP``, you should flatten the original image into a vector, whereas for ``Autoencoder_CNN``, you can use the original image without any modification. After implementing these two classes, save the figures and observe the results. Write a few sentences to describe your findings. You do not need to submit the saved figure and the dataset for your final submission.**"
      ]
    },
    {
      "cell_type": "markdown",
      "metadata": {
        "id": "uXqSGFzVIib6"
      },
      "source": [
        "<div>\n",
        "<img src=\"figures/autoencoder.png\" width=\"700\"/>\n",
        "</div>"
      ]
    },
    {
      "cell_type": "code",
      "execution_count": 15,
      "metadata": {
        "id": "-PEtVVIOIib6"
      },
      "outputs": [],
      "source": [
        "import os\n",
        "\n",
        "import torch\n",
        "import torchvision\n",
        "from torch import nn\n",
        "from torch.utils.data import DataLoader\n",
        "from torchvision import transforms\n",
        "from torchvision.datasets import MNIST\n",
        "from torchvision.utils import save_image\n",
        "\n",
        "# Make a directory \"saved_img\" if it does not exist\n",
        "if not os.path.exists('./saved_img'):\n",
        "    os.mkdir('./saved_img')\n",
        "\n",
        "\n",
        "def to_img(x):\n",
        "    x = 0.5 * (x + 1)\n",
        "    x = x.clamp(0, 1)\n",
        "    x = x.view(x.size(0), 1, 28, 28)\n",
        "    return x\n",
        "\n",
        "\n",
        "num_epochs = 100\n",
        "batch_size = 128\n",
        "learning_rate = 1e-3\n",
        "\n",
        "img_transform = transforms.Compose([\n",
        "    transforms.ToTensor(),\n",
        "    transforms.Normalize([0.5], [0.5])\n",
        "])\n",
        "\n",
        "dataset = MNIST('/content/drive/MyDrive/stat ML/Lab_9/HW5/data/MNIST', transform=img_transform,download=True)\n",
        "dataloader = DataLoader(dataset, batch_size=batch_size, shuffle=True)\n",
        "\n",
        "\n",
        "class Autoencoder_MLP(nn.Module):\n",
        "    def __init__(self):\n",
        "        super(Autoencoder_MLP, self).__init__()\n",
        "        # Encoder definition\n",
        "        self.encoder = nn.Sequential(\n",
        "            nn.Linear(28*28, 128),  # Input layer to first hidden layer\n",
        "            nn.ReLU(True),          # ReLU activation\n",
        "            nn.Linear(128, 64),     # Second hidden layer\n",
        "            nn.ReLU(True),          # ReLU activation\n",
        "            nn.Linear(64, 12),      # Third hidden layer\n",
        "            nn.ReLU(True),          # ReLU activation\n",
        "            nn.Linear(12, 3)        # Compressed representation\n",
        "        )\n",
        "        # Decoder definition\n",
        "        self.decoder = nn.Sequential(\n",
        "            nn.Linear(3, 12),       # Compressed representation to first hidden layer\n",
        "            nn.ReLU(True),          # ReLU activation\n",
        "            nn.Linear(12, 64),      # Second hidden layer\n",
        "            nn.ReLU(True),          # ReLU activation\n",
        "            nn.Linear(64, 128),     # Third hidden layer\n",
        "            nn.ReLU(True),          # ReLU activation\n",
        "            nn.Linear(128, 28*28),  # Last layer to output\n",
        "            nn.Tanh()               # Tanh activation to bring the output values between -1 and 1\n",
        "        )\n",
        "\n",
        "    def forward(self, x):\n",
        "        x = self.encoder(x)        # Pass the input through the encoder\n",
        "        x = self.decoder(x)        # Pass the encoded form through the decoder\n",
        "        return x\n",
        "\n",
        "\n",
        "class Autoencoder_CNN(nn.Module):\n",
        "    def __init__(self):\n",
        "        super(Autoencoder_CNN, self).__init__()\n",
        "        # Encoder\n",
        "        self.encoder = nn.Sequential(\n",
        "            nn.Conv2d(1, 16, kernel_size=3, stride=2, padding=1),  # Output: [16, 14, 14]\n",
        "            nn.ReLU(),\n",
        "            nn.Conv2d(16, 32, kernel_size=3, stride=2, padding=1), # Output: [32, 7, 7]\n",
        "            nn.ReLU(),\n",
        "            nn.Conv2d(32, 64, kernel_size=7)  # Output: [64, 1, 1]\n",
        "        )\n",
        "        # Decoder\n",
        "        self.decoder = nn.Sequential(\n",
        "            nn.ConvTranspose2d(64, 32, kernel_size=7),  # Output: [32, 7, 7]\n",
        "            nn.ReLU(),\n",
        "            nn.ConvTranspose2d(32, 16, kernel_size=3, stride=2, padding=1, output_padding=1),  # Output: [16, 14, 14]\n",
        "            nn.ReLU(),\n",
        "            nn.ConvTranspose2d(16, 1, kernel_size=3, stride=2, padding=1, output_padding=1),  # Output: [1, 28, 28]\n",
        "            nn.Sigmoid()  #  sigmoid to scale the output between 0 and 1\n",
        "        )\n",
        "\n",
        "    def forward(self, x):\n",
        "        x = self.encoder(x)\n",
        "        x = self.decoder(x)\n",
        "        return x\n",
        "\n",
        "\n",
        "\n",
        "# Uncomment below correspondingly\n",
        "\n",
        "model_mlp = Autoencoder_MLP().cuda()\n",
        "model_conv = Autoencoder_CNN().cuda()\n"
      ]
    },
    {
      "cell_type": "markdown",
      "source": [
        "# with MLP_Autoencoder"
      ],
      "metadata": {
        "id": "JnLC0LFVomep"
      }
    },
    {
      "cell_type": "code",
      "execution_count": 16,
      "metadata": {
        "colab": {
          "base_uri": "https://localhost:8080/"
        },
        "id": "I3nbSBQhIib6",
        "outputId": "22b86f2e-15d4-4f55-e2cd-5c3745af72ca"
      },
      "outputs": [
        {
          "output_type": "stream",
          "name": "stdout",
          "text": [
            "epoch [1/100], loss:0.2078\n",
            "epoch [2/100], loss:0.1738\n",
            "epoch [3/100], loss:0.1703\n",
            "epoch [4/100], loss:0.1562\n",
            "epoch [5/100], loss:0.1525\n",
            "epoch [6/100], loss:0.1531\n",
            "epoch [7/100], loss:0.1387\n",
            "epoch [8/100], loss:0.1435\n",
            "epoch [9/100], loss:0.1345\n",
            "epoch [10/100], loss:0.1362\n",
            "epoch [11/100], loss:0.1361\n",
            "epoch [12/100], loss:0.1426\n",
            "epoch [13/100], loss:0.1339\n",
            "epoch [14/100], loss:0.1406\n",
            "epoch [15/100], loss:0.1315\n",
            "epoch [16/100], loss:0.1271\n",
            "epoch [17/100], loss:0.1304\n",
            "epoch [18/100], loss:0.1311\n",
            "epoch [19/100], loss:0.1419\n",
            "epoch [20/100], loss:0.1343\n",
            "epoch [21/100], loss:0.1256\n",
            "epoch [22/100], loss:0.1409\n",
            "epoch [23/100], loss:0.1273\n",
            "epoch [24/100], loss:0.1366\n",
            "epoch [25/100], loss:0.1394\n",
            "epoch [26/100], loss:0.1445\n",
            "epoch [27/100], loss:0.1248\n",
            "epoch [28/100], loss:0.1262\n",
            "epoch [29/100], loss:0.1389\n",
            "epoch [30/100], loss:0.1345\n",
            "epoch [31/100], loss:0.1362\n",
            "epoch [32/100], loss:0.1307\n",
            "epoch [33/100], loss:0.1292\n",
            "epoch [34/100], loss:0.1211\n",
            "epoch [35/100], loss:0.1281\n",
            "epoch [36/100], loss:0.1317\n",
            "epoch [37/100], loss:0.1198\n",
            "epoch [38/100], loss:0.1215\n",
            "epoch [39/100], loss:0.1311\n",
            "epoch [40/100], loss:0.1267\n",
            "epoch [41/100], loss:0.1337\n",
            "epoch [42/100], loss:0.1171\n",
            "epoch [43/100], loss:0.1340\n",
            "epoch [44/100], loss:0.1331\n",
            "epoch [45/100], loss:0.1341\n",
            "epoch [46/100], loss:0.1139\n",
            "epoch [47/100], loss:0.1144\n",
            "epoch [48/100], loss:0.1176\n",
            "epoch [49/100], loss:0.1233\n",
            "epoch [50/100], loss:0.1168\n",
            "epoch [51/100], loss:0.1227\n",
            "epoch [52/100], loss:0.1186\n",
            "epoch [53/100], loss:0.1344\n",
            "epoch [54/100], loss:0.1262\n",
            "epoch [55/100], loss:0.1056\n",
            "epoch [56/100], loss:0.1155\n",
            "epoch [57/100], loss:0.1192\n",
            "epoch [58/100], loss:0.1131\n",
            "epoch [59/100], loss:0.1308\n",
            "epoch [60/100], loss:0.1252\n",
            "epoch [61/100], loss:0.1328\n",
            "epoch [62/100], loss:0.1198\n",
            "epoch [63/100], loss:0.1252\n",
            "epoch [64/100], loss:0.1297\n",
            "epoch [65/100], loss:0.1154\n",
            "epoch [66/100], loss:0.1249\n",
            "epoch [67/100], loss:0.1241\n",
            "epoch [68/100], loss:0.1275\n",
            "epoch [69/100], loss:0.1438\n",
            "epoch [70/100], loss:0.1222\n",
            "epoch [71/100], loss:0.1219\n",
            "epoch [72/100], loss:0.1230\n",
            "epoch [73/100], loss:0.1356\n",
            "epoch [74/100], loss:0.1306\n",
            "epoch [75/100], loss:0.1298\n",
            "epoch [76/100], loss:0.1226\n",
            "epoch [77/100], loss:0.1169\n",
            "epoch [78/100], loss:0.1131\n",
            "epoch [79/100], loss:0.1221\n",
            "epoch [80/100], loss:0.1263\n",
            "epoch [81/100], loss:0.1152\n",
            "epoch [82/100], loss:0.1327\n",
            "epoch [83/100], loss:0.1160\n",
            "epoch [84/100], loss:0.1175\n",
            "epoch [85/100], loss:0.1210\n",
            "epoch [86/100], loss:0.1254\n",
            "epoch [87/100], loss:0.1244\n",
            "epoch [88/100], loss:0.1280\n",
            "epoch [89/100], loss:0.1248\n",
            "epoch [90/100], loss:0.1252\n",
            "epoch [91/100], loss:0.1224\n",
            "epoch [92/100], loss:0.1153\n",
            "epoch [93/100], loss:0.1124\n",
            "epoch [94/100], loss:0.1200\n",
            "epoch [95/100], loss:0.1114\n",
            "epoch [96/100], loss:0.1343\n",
            "epoch [97/100], loss:0.1234\n",
            "epoch [98/100], loss:0.1230\n",
            "epoch [99/100], loss:0.1207\n",
            "epoch [100/100], loss:0.1241\n"
          ]
        }
      ],
      "source": [
        "\n",
        "if torch.cuda.is_available():\n",
        "    device = torch.device(\"cuda\")\n",
        "else:\n",
        "    device = torch.device(\"cpu\")\n",
        "criterion = nn.MSELoss()\n",
        "optimizer = torch.optim.Adam(model_mlp.parameters(), lr=learning_rate, weight_decay=1e-5)\n",
        "\n",
        "for epoch in range(num_epochs):\n",
        "    for data in dataloader:\n",
        "        img, _ = data\n",
        "\n",
        "        # Flatten the image for Autoencoder_MLP (You can remove this line for Autoencoder_CNN)\n",
        "        img = img.view(img.size(0), -1)\n",
        "        img = img.to(device)\n",
        "\n",
        "        # forward pass\n",
        "        output = model_mlp(img)\n",
        "        output = output.to(device)\n",
        "        loss = criterion(output, img)\n",
        "        # backward pass\n",
        "        optimizer.zero_grad()\n",
        "        loss.backward()\n",
        "        optimizer.step()\n",
        "\n",
        "    # Print log and save images\n",
        "    print('epoch [{}/{}], loss:{:.4f}'.format(epoch + 1, num_epochs, loss.item()))\n",
        "    if epoch % 10 == 0:\n",
        "        pic = to_img(output.cpu().data)\n",
        "        save_image(pic, './saved_img/image_{}.png'.format(epoch))"
      ]
    },
    {
      "cell_type": "markdown",
      "source": [
        "# CNN_Autoencoder"
      ],
      "metadata": {
        "id": "z4YEdRrOvzX1"
      }
    },
    {
      "cell_type": "code",
      "source": [
        "criterion = nn.MSELoss()\n",
        "optimizer = torch.optim.Adam(model_conv.parameters(), lr=learning_rate, weight_decay=1e-5)\n",
        "\n",
        "for epoch in range(num_epochs):\n",
        "    for data in dataloader:\n",
        "        img, _ = data\n",
        "\n",
        "        # Flatten the image for Autoencoder_MLP (You can remove this line for Autoencoder_CNN)\n",
        "        img = img.view(img.size(0), -1)\n",
        "        img = img.to(device)\n",
        "\n",
        "        # forward pass\n",
        "        output = model_mlp(img)\n",
        "        output = output.to(device)\n",
        "        loss = criterion(output, img)\n",
        "        # backward pass\n",
        "        optimizer.zero_grad()\n",
        "        loss.backward()\n",
        "        optimizer.step()\n",
        "\n",
        "    # Print log and save images\n",
        "    print('epoch [{}/{}], loss:{:.4f}'.format(epoch + 1, num_epochs, loss.item()))\n",
        "    if epoch % 10 == 0:\n",
        "        pic = to_img(output.cpu().data)\n",
        "        save_image(pic, './saved_img/image_{}.png'.format(epoch))"
      ],
      "metadata": {
        "colab": {
          "base_uri": "https://localhost:8080/"
        },
        "id": "h6tI4xtIpLAH",
        "outputId": "7178ab73-341d-47f7-873e-45a550065334"
      },
      "execution_count": 17,
      "outputs": [
        {
          "output_type": "stream",
          "name": "stdout",
          "text": [
            "epoch [1/100], loss:0.1179\n",
            "epoch [2/100], loss:0.1179\n",
            "epoch [3/100], loss:0.1232\n",
            "epoch [4/100], loss:0.1164\n",
            "epoch [5/100], loss:0.1240\n",
            "epoch [6/100], loss:0.1321\n",
            "epoch [7/100], loss:0.1157\n",
            "epoch [8/100], loss:0.1123\n",
            "epoch [9/100], loss:0.1280\n",
            "epoch [10/100], loss:0.1138\n",
            "epoch [11/100], loss:0.1291\n",
            "epoch [12/100], loss:0.1263\n",
            "epoch [13/100], loss:0.1151\n",
            "epoch [14/100], loss:0.1194\n",
            "epoch [15/100], loss:0.1258\n",
            "epoch [16/100], loss:0.1165\n",
            "epoch [17/100], loss:0.1127\n",
            "epoch [18/100], loss:0.1217\n",
            "epoch [19/100], loss:0.1187\n",
            "epoch [20/100], loss:0.1033\n",
            "epoch [21/100], loss:0.1187\n",
            "epoch [22/100], loss:0.1049\n",
            "epoch [23/100], loss:0.1207\n",
            "epoch [24/100], loss:0.1227\n",
            "epoch [25/100], loss:0.1277\n",
            "epoch [26/100], loss:0.1182\n",
            "epoch [27/100], loss:0.1150\n",
            "epoch [28/100], loss:0.1243\n",
            "epoch [29/100], loss:0.1228\n",
            "epoch [30/100], loss:0.1269\n",
            "epoch [31/100], loss:0.1275\n",
            "epoch [32/100], loss:0.1241\n",
            "epoch [33/100], loss:0.1205\n",
            "epoch [34/100], loss:0.1229\n",
            "epoch [35/100], loss:0.1285\n",
            "epoch [36/100], loss:0.1155\n",
            "epoch [37/100], loss:0.1262\n",
            "epoch [38/100], loss:0.1134\n",
            "epoch [39/100], loss:0.1262\n",
            "epoch [40/100], loss:0.1298\n",
            "epoch [41/100], loss:0.1157\n",
            "epoch [42/100], loss:0.1288\n",
            "epoch [43/100], loss:0.1209\n",
            "epoch [44/100], loss:0.1235\n",
            "epoch [45/100], loss:0.1259\n",
            "epoch [46/100], loss:0.1027\n",
            "epoch [47/100], loss:0.1295\n",
            "epoch [48/100], loss:0.1370\n",
            "epoch [49/100], loss:0.1216\n",
            "epoch [50/100], loss:0.1265\n",
            "epoch [51/100], loss:0.1151\n",
            "epoch [52/100], loss:0.1309\n",
            "epoch [53/100], loss:0.1196\n",
            "epoch [54/100], loss:0.1073\n",
            "epoch [55/100], loss:0.1094\n",
            "epoch [56/100], loss:0.1188\n",
            "epoch [57/100], loss:0.1220\n",
            "epoch [58/100], loss:0.1168\n",
            "epoch [59/100], loss:0.1271\n",
            "epoch [60/100], loss:0.1245\n",
            "epoch [61/100], loss:0.1324\n",
            "epoch [62/100], loss:0.1278\n",
            "epoch [63/100], loss:0.1222\n",
            "epoch [64/100], loss:0.1107\n",
            "epoch [65/100], loss:0.1290\n",
            "epoch [66/100], loss:0.1185\n",
            "epoch [67/100], loss:0.1268\n",
            "epoch [68/100], loss:0.1248\n",
            "epoch [69/100], loss:0.1225\n",
            "epoch [70/100], loss:0.1149\n",
            "epoch [71/100], loss:0.1151\n",
            "epoch [72/100], loss:0.1228\n",
            "epoch [73/100], loss:0.1217\n",
            "epoch [74/100], loss:0.1150\n",
            "epoch [75/100], loss:0.1331\n",
            "epoch [76/100], loss:0.1177\n",
            "epoch [77/100], loss:0.1270\n",
            "epoch [78/100], loss:0.1132\n",
            "epoch [79/100], loss:0.1384\n",
            "epoch [80/100], loss:0.1098\n",
            "epoch [81/100], loss:0.1118\n",
            "epoch [82/100], loss:0.1238\n",
            "epoch [83/100], loss:0.1242\n",
            "epoch [84/100], loss:0.1256\n",
            "epoch [85/100], loss:0.1370\n",
            "epoch [86/100], loss:0.1245\n",
            "epoch [87/100], loss:0.1221\n",
            "epoch [88/100], loss:0.1178\n",
            "epoch [89/100], loss:0.1176\n",
            "epoch [90/100], loss:0.1092\n",
            "epoch [91/100], loss:0.1251\n",
            "epoch [92/100], loss:0.1259\n",
            "epoch [93/100], loss:0.1214\n",
            "epoch [94/100], loss:0.1235\n",
            "epoch [95/100], loss:0.1294\n",
            "epoch [96/100], loss:0.1291\n",
            "epoch [97/100], loss:0.1167\n",
            "epoch [98/100], loss:0.1327\n",
            "epoch [99/100], loss:0.1241\n",
            "epoch [100/100], loss:0.1202\n"
          ]
        }
      ]
    },
    {
      "cell_type": "markdown",
      "source": [
        "# Description of findings from the saved figures"
      ],
      "metadata": {
        "id": "Xr9aFZnUy8t0"
      }
    },
    {
      "cell_type": "markdown",
      "source": [
        "After implementing and comparing the CNN-based and MLP-based autoencoders, and observing the images generated at different epochs, the key findings can be noted:\n",
        "\n",
        "1) Quality of Reconstruction:\n",
        "\n",
        "The CNN-based autoencoder produced a clearer and more recognizable image compared to the MLP-based autoencoder. This suggests that the CNN-based model is better at capturing and preserving the spatial hierarchies and localized features in the images, which is crucial for tasks involving image data.\n",
        "\n",
        "2) Efficiency in Learning:\n",
        "\n",
        "The CNN autoencoder's superior performance right from the first epoch indicates that convolutional networks are generally more efficient at learning representations from image data. This is likely due to their use of shared weights and local receptive fields, allowing them to generalize better across the spatial structure of the image"
      ],
      "metadata": {
        "id": "KZyPwC7gzEfL"
      }
    },
    {
      "cell_type": "code",
      "source": [],
      "metadata": {
        "id": "dJbmDqDf1edx"
      },
      "execution_count": null,
      "outputs": []
    }
  ],
  "metadata": {
    "kernelspec": {
      "display_name": "Python 3",
      "name": "python3"
    },
    "language_info": {
      "codemirror_mode": {
        "name": "ipython",
        "version": 3
      },
      "file_extension": ".py",
      "mimetype": "text/x-python",
      "name": "python",
      "nbconvert_exporter": "python",
      "pygments_lexer": "ipython3",
      "version": "3.8.5"
    },
    "colab": {
      "provenance": [],
      "gpuType": "T4",
      "include_colab_link": true
    },
    "accelerator": "GPU"
  },
  "nbformat": 4,
  "nbformat_minor": 0
}