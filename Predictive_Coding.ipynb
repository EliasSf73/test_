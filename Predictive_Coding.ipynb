{
  "nbformat": 4,
  "nbformat_minor": 0,
  "metadata": {
    "colab": {
      "provenance": [],
      "gpuType": "T4",
      "authorship_tag": "ABX9TyPIDOxyiDWpgSIcEiaG1Nx2",
      "include_colab_link": true
    },
    "kernelspec": {
      "name": "python3",
      "display_name": "Python 3"
    },
    "language_info": {
      "name": "python"
    },
    "accelerator": "GPU"
  },
  "cells": [
    {
      "cell_type": "markdown",
      "metadata": {
        "id": "view-in-github",
        "colab_type": "text"
      },
      "source": [
        "<a href=\"https://colab.research.google.com/github/EliasSf73/test_/blob/master/Predictive_Coding.ipynb\" target=\"_parent\"><img src=\"https://colab.research.google.com/assets/colab-badge.svg\" alt=\"Open In Colab\"/></a>"
      ]
    },
    {
      "cell_type": "markdown",
      "source": [],
      "metadata": {
        "id": "e5PSWhkg6yvx"
      }
    },
    {
      "cell_type": "markdown",
      "source": [
        "# Function.py section"
      ],
      "metadata": {
        "id": "f0_RF_HSg7o4"
      }
    },
    {
      "cell_type": "code",
      "source": [
        "# the activation functions and their derivatives\n",
        "\n",
        "def f(x, activation_function):\n",
        "    if activation_function == 'relu':\n",
        "        return torch.relu(x)\n",
        "    elif activation_function == 'leaky_relu':\n",
        "        return torch.nn.functional.leaky_relu(x, negative_slope=0.001)\n",
        "    elif activation_function == 'sigmoid':\n",
        "        return torch.sigmoid(x)\n",
        "    elif activation_function == 'tanh':\n",
        "        return torch.tanh(x)\n",
        "    else:\n",
        "        raise ValueError(\"Unsupported activation function\")\n",
        "\n",
        "def activation_function(self, x):\n",
        "    return F.leaky_relu(x, negative_slope=0.001)\n",
        "\n",
        "\n",
        "def f_deriv(x, activation_function):\n",
        "    if activation_function == 'relu':\n",
        "        return (x > 0).float()\n",
        "    elif activation_function == 'sigmoid':\n",
        "        return torch.sigmoid(x) * (1 - torch.sigmoid(x))\n",
        "    elif activation_function == 'tanh':\n",
        "        return 1 - torch.tanh(x) ** 2\n",
        "    else:\n",
        "        raise ValueError(\"Unsupported activation function\")\n",
        "\n",
        "def f_inv(x, activation_function):\n",
        "    if activation_function == 'sigmoid':\n",
        "        return torch.log(x / (1 - x))\n",
        "    elif activation_function == 'tanh':\n",
        "        return 0.5 * torch.log((1 + x) / (1 - x))\n",
        "    else:\n",
        "        raise ValueError(\"Unsupported activation function\")\n"
      ],
      "metadata": {
        "id": "eHHNhzzgg5I9"
      },
      "execution_count": 4,
      "outputs": []
    },
    {
      "cell_type": "markdown",
      "source": [
        "# Class NetworkForPredictiveCoding"
      ],
      "metadata": {
        "id": "SOD91OZ6g_Ka"
      }
    },
    {
      "cell_type": "code",
      "source": [
        "import torch\n",
        "import torch.nn as nn\n",
        "import torch.optim as optim\n",
        "from torchvision import datasets, transforms\n",
        "from torch.utils.data import DataLoader\n",
        "from torch.cuda.amp import GradScaler, autocast\n",
        "import matplotlib.pyplot as plt\n",
        "\n",
        "scaler = GradScaler()  # Initialize the GradScaler\n"
      ],
      "metadata": {
        "id": "kqXM-kcY88o6"
      },
      "execution_count": 10,
      "outputs": []
    },
    {
      "cell_type": "code",
      "source": [
        "import torch\n",
        "import torch.nn as nn\n",
        "import torch.nn.functional as F\n",
        "from torch.utils.data import DataLoader\n",
        "from torchvision import datasets, transforms\n",
        "import torch.optim as optim\n",
        "import matplotlib.pyplot as plt\n",
        "\n",
        "# Data preprocessing\n",
        "transform = transforms.Compose([\n",
        "    transforms.ToTensor(),\n",
        "    transforms.Normalize((0.1307,), (0.3081,))\n",
        "])\n",
        "\n",
        "# Data loaders\n",
        "train_dataset = datasets.MNIST('./data', train=True, download=True, transform=transform)\n",
        "test_dataset = datasets.MNIST('./data', train=False, transform=transform)\n",
        "device = torch.device(\"cuda\" if torch.cuda.is_available() else \"cpu\")\n",
        "train_loader = DataLoader(train_dataset, batch_size=64, shuffle=True, num_workers=4)\n",
        "test_loader = DataLoader(test_dataset, batch_size=1000, shuffle=False, num_workers=4)\n",
        "\n",
        "# Neural network class\n",
        "class NetworkForPredictiveCoding(nn.Module):\n",
        "    def __init__(self, input_size, hidden_sizes, output_size, num_layers):\n",
        "        super(NetworkForPredictiveCoding, self).__init__()\n",
        "        self.numlayers = num_layers\n",
        "        self.variance = [1.0] * self.numlayers\n",
        "        self.inference_beta_parameter = 0.05\n",
        "        self.max_iterations = 10\n",
        "        self.threshold_option = 0.01\n",
        "        self.device = device\n",
        "\n",
        "        self.layers = nn.ModuleList()\n",
        "        layer_sizes = [input_size] + hidden_sizes + [output_size]\n",
        "        for i in range(len(layer_sizes) - 1):\n",
        "            self.layers.append(nn.Linear(layer_sizes[i], layer_sizes[i+1]))\n",
        "            nn.init.kaiming_normal_(self.layers[-1].weight, mode='fan_out', nonlinearity='relu')\n",
        "\n",
        "    def forward(self, x):\n",
        "        for i in range(len(self.layers) - 1):\n",
        "            x = F.relu(self.layers[i](x))\n",
        "        return self.layers[-1](x)\n",
        "\n",
        "    def train_model(self, train_loader, epochs):\n",
        "        optimizer = optim.Adam(self.parameters(), lr=0.001)\n",
        "        criterion = nn.CrossEntropyLoss()\n",
        "        training_losses = []\n",
        "        for epoch in range(epochs):\n",
        "            total_loss = 0\n",
        "            for images, labels in train_loader:\n",
        "                images, labels = images.view(images.size(0), -1).to(self.device), labels.to(self.device)\n",
        "                optimizer.zero_grad()\n",
        "                outputs = self.forward(images)\n",
        "                loss = criterion(outputs, labels)\n",
        "                loss.backward()\n",
        "                optimizer.step()\n",
        "                total_loss += loss.item()\n",
        "            average_loss = total_loss / len(train_loader)\n",
        "            training_losses.append(average_loss)\n",
        "            print(f'Epoch {epoch + 1}/{epochs}, Loss: {average_loss}')\n",
        "        return training_losses\n",
        "\n",
        "    def evaluate_model(self, test_loader):\n",
        "        self.eval()\n",
        "        correct = 0\n",
        "        total = 0\n",
        "        with torch.no_grad():\n",
        "            for images, labels in test_loader:\n",
        "                images, labels = images.view(images.size(0), -1).to(self.device), labels.to(self.device)\n",
        "                outputs = self.forward(images)\n",
        "                _, predicted = torch.max(outputs.data, 1)\n",
        "                total += labels.size(0)\n",
        "                correct += (predicted == labels).sum().item()\n",
        "        accuracy = 100 * correct / total\n",
        "        print(f'Test Accuracy: {accuracy:.2f}%')\n",
        "        return accuracy\n",
        "\n",
        "# Initialize the model\n",
        "model = NetworkForPredictiveCoding(input_size=784, hidden_sizes=[32, 16], output_size=10, num_layers=3).to(device)\n",
        "\n",
        "# Train and evaluate the model\n",
        "train_losses = model.train_model(train_loader, epochs=10)\n",
        "test_accuracy = model.evaluate_model(test_loader)\n",
        "\n",
        "# Plotting the training loss\n",
        "plt.figure(figsize=(10, 5))\n",
        "plt.plot(train_losses, label='Training Loss')\n",
        "plt.title('Learning Curve')\n",
        "plt.xlabel('Epoch')\n",
        "plt.ylabel('Loss')\n",
        "plt.legend()\n",
        "plt.show()\n"
      ],
      "metadata": {
        "colab": {
          "base_uri": "https://localhost:8080/",
          "height": 683
        },
        "id": "9ChT0YgXH2Nf",
        "outputId": "1206cc8e-e951-4e39-d98a-c741eb605e35"
      },
      "execution_count": 16,
      "outputs": [
        {
          "output_type": "stream",
          "name": "stdout",
          "text": [
            "Epoch 1/10, Loss: 1.2928493405614834\n",
            "Epoch 2/10, Loss: 0.3952539938726405\n",
            "Epoch 3/10, Loss: 0.28713651613068225\n",
            "Epoch 4/10, Loss: 0.2305988600846928\n",
            "Epoch 5/10, Loss: 0.19435299184919994\n",
            "Epoch 6/10, Loss: 0.16834957276913784\n",
            "Epoch 7/10, Loss: 0.14861680780336864\n",
            "Epoch 8/10, Loss: 0.1326489487934961\n",
            "Epoch 9/10, Loss: 0.12074497167660452\n",
            "Epoch 10/10, Loss: 0.1112623670553443\n",
            "Test Accuracy: 95.44%\n"
          ]
        },
        {
          "output_type": "display_data",
          "data": {
            "text/plain": [
              "<Figure size 1000x500 with 1 Axes>"
            ],
            "image/png": "[encoded data removed]"
          },
          "metadata": {}
        }
      ]
    },
    {
      "cell_type": "markdown",
      "source": [
        "# Train on MNIST dataset"
      ],
      "metadata": {
        "id": "6URMadB1hHl_"
      }
    }
  ]
}