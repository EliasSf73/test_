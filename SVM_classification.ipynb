{
  "nbformat": 4,
  "nbformat_minor": 0,
  "metadata": {
    "colab": {
      "provenance": [],
      "authorship_tag": "ABX9TyOxMe20et6U/4w2GZXKEF+d",
      "include_colab_link": true
    },
    "kernelspec": {
      "name": "python3",
      "display_name": "Python 3"
    },
    "language_info": {
      "name": "python"
    }
  },
  "cells": [
    {
      "cell_type": "markdown",
      "metadata": {
        "id": "view-in-github",
        "colab_type": "text"
      },
      "source": [
        "<a href=\"https://colab.research.google.com/github/EliasSf73/test_/blob/master/SVM_classification.ipynb\" target=\"_parent\"><img src=\"https://colab.research.google.com/assets/colab-badge.svg\" alt=\"Open In Colab\"/></a>"
      ]
    },
    {
      "cell_type": "code",
      "execution_count": 15,
      "metadata": {
        "id": "zuTdxcJo09oE"
      },
      "outputs": [],
      "source": [
        "import numpy as np\n",
        "import pandas as pd\n",
        "from sklearn.model_selection import train_test_split\n",
        "from sklearn.metrics import classification_report, accuracy_score\n",
        "from sklearn.preprocessing import LabelEncoder"
      ]
    },
    {
      "cell_type": "markdown",
      "source": [
        "# Training"
      ],
      "metadata": {
        "id": "MOxQgoAA5cfY"
      }
    },
    {
      "cell_type": "code",
      "source": [
        "# class SVM:\n",
        "\n",
        "#   def __init__(self,learning_rate=0.01, lambda_param=0.01,n_iters=1000):\n",
        "#     self.learning_rate=learning_rate\n",
        "#     self.lambda_param=lambda_param\n",
        "#     self.n_iters=n_iters\n",
        "#     self.w=None\n",
        "#     self.b=None\n",
        "\n",
        "#     def fit(self,X,y):\n",
        "#       #Initialize weight and bias\n",
        "#       n_samples,n_features=X.shape\n",
        "#       self.w=np.zeros(n_features)\n",
        "#       self.b=0\n",
        "#       #changing labels to binary values -1 and 1\n",
        "#       y_=np.where(y<=0,-1,1)\n",
        "\n",
        "#       #optimization with gradient descent\n",
        "#       for _ in range(n_iters):\n",
        "#         for idx,x in enumerate(X):\n",
        "#           # check condition before update\n",
        "#           condition=y_[idx]*(np.dot(self.w,x)-self.b)\n",
        "#           if condition>=1: # Update weights and bias for correctly classified samples\n",
        "#             self.w-=self.learning_rate * (2*self.lambda_param * self.w)\n",
        "\n",
        "#           else: # Update weights and bias for incorrectly classified samples\n",
        "\n",
        "#             self.w-=self.learning_rate * (2*self.lambda_param * self.w - np.dot(x,y_[idx]) )\n",
        "#             self.b-=self.learning_rate*y_[idx]\n",
        "#     def predict(self,X):\n",
        "#        # Predict the class labels using the learned weights and bias\n",
        "#        linear_output= np.dot(X,self.w)-self.b\n",
        "#        return np.sign(linear_output)\n",
        "\n"
      ],
      "metadata": {
        "id": "asS46hKK1HZo"
      },
      "execution_count": 9,
      "outputs": []
    },
    {
      "cell_type": "code",
      "source": [
        "class SVM:\n",
        "    def __init__(self, learning_rate=0.01, lambda_param=0.01, n_iters=1000):\n",
        "        self.learning_rate = learning_rate\n",
        "        self.lambda_param = lambda_param\n",
        "        self.n_iters = n_iters\n",
        "        self.w = None\n",
        "        self.b = None\n",
        "\n",
        "    def fit(self, X, y):\n",
        "        n_samples, n_features = X.shape\n",
        "        self.w = np.zeros(n_features)\n",
        "        self.b = 0\n",
        "        y_ = np.where(y <= 0, -1, 1)\n",
        "\n",
        "        for _ in range(self.n_iters):\n",
        "            for idx, x_i in enumerate(X):\n",
        "                condition = y_[idx] * (np.dot(x_i, self.w) - self.b) >= 1\n",
        "                if condition:\n",
        "                    self.w -= self.learning_rate * (2 * self.lambda_param * self.w)\n",
        "                else:\n",
        "                    self.w -= self.learning_rate * (2 * self.lambda_param * self.w - np.dot(x_i, y_[idx]))\n",
        "                    self.b -= self.learning_rate * y_[idx]\n",
        "\n",
        "    def predict(self, X):\n",
        "        linear_output = np.dot(X, self.w) - self.b\n",
        "        return np.sign(linear_output)\n"
      ],
      "metadata": {
        "id": "NsJ0S_s393ps"
      },
      "execution_count": 16,
      "outputs": []
    },
    {
      "cell_type": "markdown",
      "source": [
        "# Usage"
      ],
      "metadata": {
        "id": "SLW36NrL5f-h"
      }
    },
    {
      "cell_type": "code",
      "source": [
        "if __name__=='__main__':\n",
        "  #Load data from  csv file\n",
        "  df=pd.read_csv('Social_Network_Ads.csv')\n",
        "  label_encoder = LabelEncoder()\n",
        "  df['Gender'] = label_encoder.fit_transform(df['Gender'])\n",
        "  # get features and labels\n",
        "  X=df.iloc[:,:-1].values\n",
        "  y=df.iloc[:,-1].values\n",
        "  # convert labels to\n",
        "  y=np.where(y==0,1,-1)\n",
        "\n",
        "  # split the dataset into train and test\n",
        "  X_train, X_test, y_train, y_test = train_test_split(X, y, test_size=0.2, random_state=42)\n",
        "  # Instantiate the SVM class\n",
        "  svm = SVM()\n",
        "\n",
        "  # fit model on the training data\n",
        "  svm.fit(X_train,y_train)\n",
        "  #Make predictions\n",
        "  predictions=svm.predict(X_test)\n",
        "  # Evaluate the model\n",
        "  print(f'Accuracy: {accuracy_score(y_test, np.where(predictions < 0, -1, 1))}')\n",
        "  print(f'Classification Report:\\n{classification_report(y_test, np.where(predictions < 0, -1, 1))}')\n",
        "\n",
        "\n"
      ],
      "metadata": {
        "colab": {
          "base_uri": "https://localhost:8080/"
        },
        "id": "wE0HHvAT5iUU",
        "outputId": "dd45c5b7-684e-4c45-b1bb-f6692172672a"
      },
      "execution_count": 18,
      "outputs": [
        {
          "output_type": "stream",
          "name": "stdout",
          "text": [
            "Accuracy: 0.65\n",
            "Classification Report:\n",
            "              precision    recall  f1-score   support\n",
            "\n",
            "          -1       0.00      0.00      0.00        28\n",
            "           1       0.65      1.00      0.79        52\n",
            "\n",
            "    accuracy                           0.65        80\n",
            "   macro avg       0.33      0.50      0.39        80\n",
            "weighted avg       0.42      0.65      0.51        80\n",
            "\n"
          ]
        },
        {
          "output_type": "stream",
          "name": "stderr",
          "text": [
            "/usr/local/lib/python3.10/dist-packages/sklearn/metrics/_classification.py:1344: UndefinedMetricWarning: Precision and F-score are ill-defined and being set to 0.0 in labels with no predicted samples. Use `zero_division` parameter to control this behavior.\n",
            "  _warn_prf(average, modifier, msg_start, len(result))\n",
            "/usr/local/lib/python3.10/dist-packages/sklearn/metrics/_classification.py:1344: UndefinedMetricWarning: Precision and F-score are ill-defined and being set to 0.0 in labels with no predicted samples. Use `zero_division` parameter to control this behavior.\n",
            "  _warn_prf(average, modifier, msg_start, len(result))\n",
            "/usr/local/lib/python3.10/dist-packages/sklearn/metrics/_classification.py:1344: UndefinedMetricWarning: Precision and F-score are ill-defined and being set to 0.0 in labels with no predicted samples. Use `zero_division` parameter to control this behavior.\n",
            "  _warn_prf(average, modifier, msg_start, len(result))\n"
          ]
        }
      ]
    }
  ]
}