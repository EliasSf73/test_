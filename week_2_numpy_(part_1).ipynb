{
  "cells": [
    {
      "cell_type": "markdown",
      "metadata": {
        "id": "view-in-github",
        "colab_type": "text"
      },
      "source": [
        "<a href=\"https://colab.research.google.com/github/EliasSf73/test_/blob/master/week_2_numpy_(part_1).ipynb\" target=\"_parent\"><img src=\"https://colab.research.google.com/assets/colab-badge.svg\" alt=\"Open In Colab\"/></a>"
      ]
    },
    {
      "cell_type": "markdown",
      "metadata": {
        "id": "s39SnnxrZxsx",
        "tags": []
      },
      "source": [
        "# Chapter 2. Numpy\n",
        "\n",
        "- A Python library used for efficient numerical computations, offering support for large multi-dimensional arrays and matrices.\n",
        "\n",
        "- It also provides a wide range of mathematical functions, (e.g., mean, std, max, etc) to perform operations on these arrays, making it essential for data science and scientific computing."
      ]
    },
    {
      "cell_type": "markdown",
      "metadata": {
        "id": "rHQfwSMfDN_c"
      },
      "source": [
        "## 2-1. Numpy basic\n",
        "- __Numpy__ : efficient implementation of n-dim array\n",
        "\n",
        "- Why is it faster than Python List?\n",
        " - reserve contiguous memory (no individual referencing)\n",
        " - reduce computational overhead with optimized C implementation\n",
        "\n",
        "- Support multi-dimensional arrays\n",
        " - 1-d array, 2-d array, ..., n-d array"
      ]
    },
    {
      "cell_type": "code",
      "execution_count": null,
      "metadata": {
        "id": "nmyb-iOiDN_d"
      },
      "outputs": [],
      "source": [
        "import numpy as np"
      ]
    },
    {
      "cell_type": "code",
      "execution_count": null,
      "metadata": {
        "colab": {
          "base_uri": "https://localhost:8080/"
        },
        "id": "tkWesa6EDN_d",
        "outputId": "5305b042-38f5-4f33-d646-54ca4b2c2410"
      },
      "outputs": [
        {
          "name": "stdout",
          "output_type": "stream",
          "text": [
            "a : List = [1, 2, 3, 4, 5, 6, 7, 8]\n",
            "b : np array = [1 2 3 4 5 6 7 8]\n"
          ]
        }
      ],
      "source": [
        "# how to make numpy array?\n",
        "\n",
        "a = [1,2,3,4,5,6,7,8]\n",
        "print(\"a : List =\", a)\n",
        "b = np.array(a)\n",
        "print(\"b : np array =\", b)"
      ]
    },
    {
      "cell_type": "markdown",
      "metadata": {
        "id": "oM6L1x7EDN_e"
      },
      "source": [
        "#### NumPy standard data types\n",
        "\n",
        "- NumPy arrays contain values of a single type\n",
        "- data type can be specified when constructing an array\n",
        "```python\n",
        "np.zeros(10, dtype=int)\n",
        "np.zeros(10, dtype=float)\n",
        "np.zeros(10, dtype='int16')\n",
        "np.zeros(10, dtype=np.float32)\n",
        "```"
      ]
    },
    {
      "cell_type": "markdown",
      "metadata": {
        "id": "9-ryGuxTDN_e"
      },
      "source": [
        "| Data type\t    | Description |\n",
        "|---------------|-------------|\n",
        "| ``bool_``     | Boolean (True or False) stored as a byte |\n",
        "| ``int_``      | Default integer type (same as C ``long``; normally either ``int64`` or ``int32``)|\n",
        "| ``intc``      | Identical to C ``int`` (normally ``int32`` or ``int64``)|\n",
        "| ``intp``      | Integer used for indexing (same as C ``ssize_t``; normally either ``int32`` or ``int64``)|\n",
        "| ``int8``      | Byte (-128 to 127)|\n",
        "| ``int16``     | Integer (-32768 to 32767)|\n",
        "| ``int32``     | Integer (-2147483648 to 2147483647)|\n",
        "| ``int64``     | Integer (-9223372036854775808 to 9223372036854775807)|\n",
        "| ``uint8``     | Unsigned integer (0 to 255)|\n",
        "| ``uint16``    | Unsigned integer (0 to 65535)|\n",
        "| ``uint32``    | Unsigned integer (0 to 4294967295)|\n",
        "| ``uint64``    | Unsigned integer (0 to 18446744073709551615)|\n",
        "| ``float_``    | Shorthand for ``float64``.|\n",
        "| ``float16``   | Half precision float: sign bit, 5 bits exponent, 10 bits mantissa|\n",
        "| ``float32``   | Single precision float: sign bit, 8 bits exponent, 23 bits mantissa|\n",
        "| ``float64``   | Double precision float: sign bit, 11 bits exponent, 52 bits mantissa|\n",
        "| ``complex_``  | Shorthand for ``complex128``.|\n",
        "| ``complex64`` | Complex number, represented by two 32-bit floats|\n",
        "| ``complex128``| Complex number, represented by two 64-bit floats|"
      ]
    },
    {
      "cell_type": "code",
      "execution_count": null,
      "metadata": {
        "colab": {
          "base_uri": "https://localhost:8080/"
        },
        "id": "dHLrAHLADN_e",
        "outputId": "3ef2c5a7-9ab9-4250-d1e2-deb6515dd20d"
      },
      "outputs": [
        {
          "data": {
            "text/plain": [
              "array([1., 2., 3., 4.], dtype=float32)"
            ]
          },
          "execution_count": 3,
          "metadata": {},
          "output_type": "execute_result"
        }
      ],
      "source": [
        "np.array([1, 2, 3, 4], dtype='float32')"
      ]
    },
    {
      "cell_type": "markdown",
      "metadata": {
        "id": "EowKUHlVDN_e"
      },
      "source": [
        "#### Creating arrays from scratch\n",
        "- __shape__ :\n",
        "    * (d1) : 1-d array of size d1\n",
        "    * (d1,d2) : 2-d array of size d1xd2\n",
        "    * (d1,d2,d3) : 3-d array of size d1xd2xd3\n",
        "    * ..."
      ]
    },
    {
      "cell_type": "code",
      "execution_count": null,
      "metadata": {
        "colab": {
          "base_uri": "https://localhost:8080/"
        },
        "id": "nyovtIx3DN_e",
        "outputId": "a693d19d-6e37-4c8f-ec19-25a36f5ea1d3"
      },
      "outputs": [
        {
          "name": "stdout",
          "output_type": "stream",
          "text": [
            "(10,)\n",
            "[0 0 0 0 0 0 0 0 0 0]\n",
            "(2, 5)\n",
            "[[1. 1. 1. 1. 1.]\n",
            " [1. 1. 1. 1. 1.]]\n",
            "[[3.14 3.14 3.14 3.14 3.14]\n",
            " [3.14 3.14 3.14 3.14 3.14]]\n"
          ]
        }
      ],
      "source": [
        "# Create a length-10 integer array filled with zeros\n",
        "a0 = np.zeros(shape=10, dtype=int)\n",
        "print(a0.shape)\n",
        "print(a0)\n",
        "\n",
        "# Create a 2x5 floating-point array (matrix) filled with ones\n",
        "a1 = np.ones(shape=(2, 5), dtype=float)\n",
        "print(a1.shape)\n",
        "print(a1)\n",
        "\n",
        "# Create a 2x5 array filled with 3.14\n",
        "af = np.full(shape=(2, 5), fill_value=3.14) # np.zeros((2, 5)) + 3.14,  np.ones((2, 5)) * 3.14\n",
        "print(af)"
      ]
    },
    {
      "cell_type": "code",
      "execution_count": null,
      "metadata": {
        "colab": {
          "base_uri": "https://localhost:8080/"
        },
        "id": "ih57W9n5DN_e",
        "outputId": "a3b75122-59d4-435d-ad5c-af07ebd3e387"
      },
      "outputs": [
        {
          "data": {
            "text/plain": [
              "array([[1., 0., 0.],\n",
              "       [0., 1., 0.],\n",
              "       [0., 0., 1.]])"
            ]
          },
          "execution_count": 5,
          "metadata": {},
          "output_type": "execute_result"
        }
      ],
      "source": [
        "# Create a 3x3 identity matrix\n",
        "np.eye(3)"
      ]
    },
    {
      "cell_type": "code",
      "execution_count": null,
      "metadata": {
        "colab": {
          "base_uri": "https://localhost:8080/"
        },
        "id": "W1poYf-dDN_f",
        "outputId": "c3cf52b9-394b-497e-a627-6152c650a9eb"
      },
      "outputs": [
        {
          "data": {
            "text/plain": [
              "array([ 0,  2,  4,  6,  8, 10, 12, 14, 16, 18])"
            ]
          },
          "execution_count": 6,
          "metadata": {},
          "output_type": "execute_result"
        }
      ],
      "source": [
        "# Create an array filled with a linear sequence\n",
        "# Starting at 0, ending at 20, stepping by 2\n",
        "# (this is similar to the built-in range() function, but return np-array)\n",
        "np.arange(0, 20, 2)"
      ]
    },
    {
      "cell_type": "markdown",
      "metadata": {
        "id": "ynnXgPpVDN_f"
      },
      "source": [
        "#### Creating array with random numbers"
      ]
    },
    {
      "cell_type": "code",
      "execution_count": null,
      "metadata": {
        "id": "skl22ydnDN_f"
      },
      "outputs": [],
      "source": [
        "# setting seed for random number generator\n",
        "# By setting the same seed value, we ensure that the random number generator produces the same sequence of numbers\n",
        "#, making the process \"deterministic\" and \"reproducible\".\n",
        "import random\n",
        "import numpy as np\n",
        "random.seed(0)\n",
        "np.random.seed(0)"
      ]
    },
    {
      "cell_type": "code",
      "execution_count": null,
      "metadata": {
        "colab": {
          "base_uri": "https://localhost:8080/"
        },
        "id": "e-yQL_drDN_f",
        "outputId": "c0f31dff-01fb-4204-8c76-b2903fc5b91b"
      },
      "outputs": [
        {
          "data": {
            "text/plain": [
              "array([[0.5488135 , 0.71518937, 0.60276338],\n",
              "       [0.54488318, 0.4236548 , 0.64589411],\n",
              "       [0.43758721, 0.891773  , 0.96366276]])"
            ]
          },
          "execution_count": 8,
          "metadata": {},
          "output_type": "execute_result"
        }
      ],
      "source": [
        "# Create a 3x3 array of uniform[0,1] random numbers\n",
        "np.random.random(size=(3, 3))"
      ]
    },
    {
      "cell_type": "code",
      "execution_count": null,
      "metadata": {
        "colab": {
          "base_uri": "https://localhost:8080/"
        },
        "id": "WeYBxOBGDN_f",
        "outputId": "7b117b35-3295-4aef-d7f8-bec2b0e83402"
      },
      "outputs": [
        {
          "data": {
            "text/plain": [
              "array([[1, 6, 7],\n",
              "       [7, 8, 1],\n",
              "       [5, 9, 8]])"
            ]
          },
          "execution_count": 9,
          "metadata": {},
          "output_type": "execute_result"
        }
      ],
      "source": [
        "# Create a 3x3 array of random integers in the interval [0, 10)\n",
        "np.random.randint(low=0, high=10, size=(3, 3))"
      ]
    },
    {
      "cell_type": "code",
      "execution_count": null,
      "metadata": {
        "colab": {
          "base_uri": "https://localhost:8080/"
        },
        "id": "qoCWjlODDN_f",
        "outputId": "24c82c9d-37e8-4013-80c7-89c772a8c50b"
      },
      "outputs": [
        {
          "name": "stdout",
          "output_type": "stream",
          "text": [
            "# dims: 4\n",
            "# integers: 120\n",
            "shape (2, 3, 4, 5)\n"
          ]
        }
      ],
      "source": [
        "x = np.random.randint(low=0, high=10, size=(2, 3, 4, 5))\n",
        "print ('# dims:', x.ndim)\n",
        "print ('# integers:', x.size)\n",
        "print ('shape', x.shape)"
      ]
    },
    {
      "cell_type": "code",
      "execution_count": null,
      "metadata": {
        "colab": {
          "base_uri": "https://localhost:8080/"
        },
        "id": "DojrO_X-DN_f",
        "outputId": "27b99689-9184-4ce7-f266-3ce2c2c509b0"
      },
      "outputs": [
        {
          "data": {
            "text/plain": [
              "array([[ 1.84369153,  1.52550724, -1.44553558],\n",
              "       [ 0.37716061, -0.07055723,  0.60415971],\n",
              "       [ 0.472149  ,  0.81991729,  0.90751962]])"
            ]
          },
          "execution_count": 11,
          "metadata": {},
          "output_type": "execute_result"
        }
      ],
      "source": [
        "# Create a 3x3 array of N(0,1)\n",
        "np.random.randn(3,3) # (d1, d2)"
      ]
    },
    {
      "cell_type": "code",
      "execution_count": null,
      "metadata": {
        "colab": {
          "base_uri": "https://localhost:8080/"
        },
        "id": "GZbP9_wgDN_f",
        "outputId": "0d3a55a0-ab7c-458a-b9b2-f5a153ce8171"
      },
      "outputs": [
        {
          "data": {
            "text/plain": [
              "array([[44.14177125, 59.37558842, 47.45391908],\n",
              "       [59.73598712, 52.07282772, 60.99641973],\n",
              "       [59.39896981, 56.06389001, 50.01760841]])"
            ]
          },
          "execution_count": 12,
          "metadata": {},
          "output_type": "execute_result"
        }
      ],
      "source": [
        "# Create a 3x3 array of N(50,1)\n",
        "# loc = center/mean of distribution\n",
        "# scale = standard deviation of distribution\n",
        "np.random.normal(loc=50, scale=10, size=(3, 3))"
      ]
    },
    {
      "cell_type": "markdown",
      "metadata": {
        "id": "dDRq60X5DN_f"
      },
      "source": [
        "#### Attributes in NumPy array\n",
        "\n",
        "NumPy object has member variables (attributes) below:\n",
        "\n",
        "- ``dtype`` : the data type of the array\n",
        "- ``ndim`` : the number of axes\n",
        "- ``shape`` : the size of each axis\n",
        "- ``size`` : the total number of element in the array\n",
        "- ``itemsize`` :  the size of each array element (in bytes)\n",
        "- ``nbytes`` : the total size of the array (in bytes)"
      ]
    },
    {
      "cell_type": "code",
      "execution_count": null,
      "metadata": {
        "colab": {
          "base_uri": "https://localhost:8080/"
        },
        "id": "-CjDp6mFDN_f",
        "jupyter": {
          "outputs_hidden": false
        },
        "outputId": "271c5543-b0cf-4484-b857-c6fe0ed11847"
      },
      "outputs": [
        {
          "name": "stdout",
          "output_type": "stream",
          "text": [
            "dtype: int64\n",
            "ndim:  3\n",
            "shape: (3, 4, 5)\n",
            "size:  60\n",
            "itemsize: 8 bytes\n",
            "nbytes: 480 bytes\n"
          ]
        }
      ],
      "source": [
        "np.random.seed(0)  # seed for reproducibility\n",
        "x3 = np.random.randint(low=0, high=10, size=(3, 4, 5))  # Three-dimensional array\n",
        "\n",
        "print(\"dtype:\", x3.dtype)\n",
        "print(\"ndim: \", x3.ndim)\n",
        "print(\"shape:\", x3.shape)\n",
        "print(\"size: \", x3.size)\n",
        "print(\"itemsize:\", x3.itemsize, \"bytes\")\n",
        "print(\"nbytes:\", x3.nbytes, \"bytes\")"
      ]
    },
    {
      "cell_type": "markdown",
      "metadata": {
        "id": "kxek3tYbDN_f"
      },
      "source": [
        "#### Array indexing, slicing: similar to python list"
      ]
    },
    {
      "cell_type": "code",
      "execution_count": null,
      "metadata": {
        "colab": {
          "base_uri": "https://localhost:8080/"
        },
        "id": "YLqoM2sCDN_f",
        "jupyter": {
          "outputs_hidden": false
        },
        "outputId": "d2b4e9da-66bf-4c77-b534-5f577790f82e"
      },
      "outputs": [
        {
          "name": "stdout",
          "output_type": "stream",
          "text": [
            "[0 1 2 3 4 5 6 7 8 9]\n"
          ]
        }
      ],
      "source": [
        "x1 = np.arange(10)  # integer type\n",
        "print (x1)"
      ]
    },
    {
      "cell_type": "code",
      "execution_count": null,
      "metadata": {
        "colab": {
          "base_uri": "https://localhost:8080/"
        },
        "id": "15V1WmEJDN_g",
        "jupyter": {
          "outputs_hidden": false
        },
        "outputId": "283e96ee-5196-4eb5-d736-213525572964"
      },
      "outputs": [
        {
          "name": "stdout",
          "output_type": "stream",
          "text": [
            "0 1 9 8\n",
            "[0 1 2 3]\n",
            "[4 5 6]\n",
            "[7 8 9]\n",
            "[7 8]\n",
            "[1 3 5 7]\n"
          ]
        }
      ],
      "source": [
        "x1[1] = 1.8  # truncated to integer\n",
        "print (x1[0], x1[1], x1[-1], x1[-2])\n",
        "print (x1[:4])\n",
        "print (x1[4:7])\n",
        "print (x1[7:])\n",
        "print (x1[7:-1])\n",
        "print (x1[1:8:2]) # start:end:step-size"
      ]
    },
    {
      "cell_type": "markdown",
      "metadata": {
        "id": "QaxdI6W6DN_g"
      },
      "source": [
        "#### Slicing\n",
        "    - a view (not a copy) of the base array\n",
        "    - to make a copy, use copy()"
      ]
    },
    {
      "cell_type": "code",
      "execution_count": null,
      "metadata": {
        "colab": {
          "base_uri": "https://localhost:8080/"
        },
        "id": "TjUt339GDN_g",
        "outputId": "50bf0800-5aad-4001-eee7-da844954a88a"
      },
      "outputs": [
        {
          "name": "stdout",
          "output_type": "stream",
          "text": [
            "[0 1 2 3 4 5 6 7 8 9] [4 5 6]\n",
            "[0 1 2 3 0 5 6 7 8 9] [0 5 6] \n",
            "\n",
            "[0 1 2 3 4 5 6 7 8 9] [0 8 9]\n"
          ]
        }
      ],
      "source": [
        "x1 = np.arange(10)\n",
        "y = x1[4:7]\n",
        "print(x1, y)\n",
        "y[0] = 0\n",
        "print(x1, y, '\\n')       # TAQ\n",
        "\n",
        "x1 = np.arange(10)\n",
        "z = x1[7:].copy()\n",
        "z[0] = 0\n",
        "print(x1,z)              # TAQ"
      ]
    },
    {
      "cell_type": "code",
      "execution_count": null,
      "metadata": {
        "colab": {
          "base_uri": "https://localhost:8080/"
        },
        "id": "qHafZrGsDN_g",
        "jupyter": {
          "outputs_hidden": false
        },
        "outputId": "615fb903-acb2-4e9b-8a8a-99136f1cf5b3"
      },
      "outputs": [
        {
          "name": "stdout",
          "output_type": "stream",
          "text": [
            "[[42 58 31  1]\n",
            " [65 41 57 35]\n",
            " [11 46 82 91]] \n",
            "\n",
            "row slicing: [42 58 31  1]\n",
            "row slicing: [58 31]\n",
            "column slicing: [58 41 46]\n"
          ]
        }
      ],
      "source": [
        "x2 = np.random.randint(low=0, high=100, size=(3,4))\n",
        "print (x2,'\\n')\n",
        "print ('row slicing:', x2[0])  # first row\n",
        "print ('row slicing:', x2[0,1:3]) # 1st to 2nd elements in the first row.\n",
        "print ('column slicing:', x2[:,1])  # second col"
      ]
    },
    {
      "cell_type": "markdown",
      "metadata": {
        "id": "TbwwDvxwDN_g"
      },
      "source": [
        "#### Array reshaping\n",
        "- y = x.reshape(new_shape) : changes shapes of x\n",
        "- no-copy view : reference the original array\n",
        "- x.reshape(-1) : flattens to 1-d array\n",
        "    * numpy n-d array : 1-d array storage + n-d view"
      ]
    },
    {
      "cell_type": "code",
      "execution_count": null,
      "metadata": {
        "colab": {
          "base_uri": "https://localhost:8080/"
        },
        "id": "yd1Yc-XhDN_g",
        "outputId": "8b677e01-1049-4659-d1b3-568550e5322b"
      },
      "outputs": [
        {
          "name": "stdout",
          "output_type": "stream",
          "text": [
            "[0 1 2 3 4 5 6 7 8] \n",
            "\n",
            "[[0 1 2]\n",
            " [3 4 5]\n",
            " [6 7 8]] \n",
            "\n",
            "[0 1 2 0 0 0 6 7 8]\n"
          ]
        }
      ],
      "source": [
        "x1 = np.arange(9)\n",
        "print(x1, '\\n')\n",
        "x2 = x1.reshape((3, 3))\n",
        "print(x2, '\\n')\n",
        "x2[1] = 0   # x2[1] = x2[1,:], no copy\n",
        "print(x1)   # TAQ"
      ]
    },
    {
      "cell_type": "code",
      "execution_count": null,
      "metadata": {
        "colab": {
          "base_uri": "https://localhost:8080/"
        },
        "id": "mt_JX4c5DN_g",
        "outputId": "19603fff-b900-4e54-f020-d95783e889df"
      },
      "outputs": [
        {
          "name": "stdout",
          "output_type": "stream",
          "text": [
            "[[ 0  1  2  3]\n",
            " [ 4  5  6  7]\n",
            " [ 8  9 10 11]] \n",
            "\n",
            "[0 1 2 3] \n",
            "\n",
            "reshape again: [[4 5 6 7]] \n",
            "\n",
            "reshape again: [[ 8]\n",
            " [ 9]\n",
            " [10]\n",
            " [11]] \n",
            "\n"
          ]
        }
      ],
      "source": [
        "x2 = np.arange(12).reshape((3, 4))\n",
        "print (x2, '\\n')\n",
        "print (x2[0], '\\n')\n",
        "print ('reshape again:', x2[1].reshape((1,4)), '\\n')\n",
        "print ('reshape again:', x2[2].reshape((4,1)), '\\n')"
      ]
    },
    {
      "cell_type": "code",
      "execution_count": null,
      "metadata": {
        "colab": {
          "base_uri": "https://localhost:8080/"
        },
        "id": "EXUiUNqkDN_g",
        "outputId": "7510df4a-6538-426a-959c-64bbd26a3bed"
      },
      "outputs": [
        {
          "name": "stdout",
          "output_type": "stream",
          "text": [
            "[ 0  1  2  3  4  5  6  7  8  9 10 11] \n",
            "\n",
            "[[ 0  1  2]\n",
            " [ 3  4  5]\n",
            " [ 6  7  8]\n",
            " [ 9 10 11]] \n",
            "\n",
            "[[ 0  1  2  3  4  5]\n",
            " [ 6  7  8  9 10 11]] \n",
            "\n",
            "[[[ 0  1  2]\n",
            "  [ 3  4  5]]\n",
            "\n",
            " [[ 6  7  8]\n",
            "  [ 9 10 11]]]\n"
          ]
        }
      ],
      "source": [
        "print (x2.reshape(-1), '\\n') # flattening\n",
        "\n",
        "# -1: a placeholder that allows NumPy to automatically determine the appropriate size\n",
        "print (x2.reshape((4,-1)), '\\n')\n",
        "print (x2.reshape((-1,6)), '\\n')\n",
        "print (x2.reshape((2,2,-1))) # 2 x 2 x 3 array"
      ]
    },
    {
      "cell_type": "markdown",
      "metadata": {
        "id": "iBXVDjBYDN_g"
      },
      "source": [
        "#### 1-d index of n-d array\n",
        "- x.shape = $(d_0, d_1)$\n",
        "- y.reshape(-1) : flattened(1-d) view of x\n",
        "\n",
        "n-d array is just another view. we can compute the index of 1-d array using the coordinates of 2-d array\n",
        "- x[$a,b$] $\\equiv$ y[$k$], where $k = a(d_1) + b$"
      ]
    },
    {
      "cell_type": "code",
      "execution_count": null,
      "metadata": {
        "colab": {
          "base_uri": "https://localhost:8080/"
        },
        "id": "foFCqq4-DN_g",
        "outputId": "ba675c5a-19c0-42b1-844c-14633736730b"
      },
      "outputs": [
        {
          "name": "stdout",
          "output_type": "stream",
          "text": [
            "[[0 1 2]\n",
            " [3 4 5]]\n",
            "4\n",
            "4\n",
            "0\n",
            "[5 8 2]\n",
            "[5 8 2]\n"
          ]
        }
      ],
      "source": [
        "import numpy as np\n",
        "dim_0, dim_1 = 2, 3\n",
        "x3 = np.arange(dim_0*dim_1)\n",
        "x4 = x3.reshape((dim_0,dim_1))\n",
        "print(x4)\n",
        "\n",
        "a,b = 1,1\n",
        "print(x4[a,b])\n",
        "k = a * dim_1 + b\n",
        "print(x3[k])\n",
        "\n",
        "x3[k] = 0\n",
        "print (x4[a,b])   # TAQ\n",
        "x = [-5, -8, 2]\n",
        "\n",
        "# convert to absolute values\n",
        "print(np.array([abs(x[0]),abs(x[1]),abs(x[2])] ))\n",
        "print(np.abs(x))"
      ]
    },
    {
      "cell_type": "markdown",
      "metadata": {
        "id": "xGE9rbpRDN_g"
      },
      "source": [
        "#### Concatenating arrays"
      ]
    },
    {
      "cell_type": "code",
      "execution_count": null,
      "metadata": {
        "colab": {
          "base_uri": "https://localhost:8080/"
        },
        "id": "8cgW4maeDN_g",
        "outputId": "84b2f550-b0e5-4e62-a004-b9154345169d"
      },
      "outputs": [
        {
          "name": "stdout",
          "output_type": "stream",
          "text": [
            "[1 2 3 3 2 1] \n",
            "\n",
            "[ 1  2  3  3  2  1 99 99 99]\n"
          ]
        }
      ],
      "source": [
        "# concateneation with 1-dim array\n",
        "# no need to specify the axis for concatenation\n",
        "x = np.array([1, 2, 3])\n",
        "y = np.array([3, 2, 1])\n",
        "print (np.concatenate([x, y]), '\\n')\n",
        "z = [99, 99, 99]\n",
        "print(np.concatenate([x, y, z]))"
      ]
    },
    {
      "cell_type": "code",
      "execution_count": null,
      "metadata": {
        "colab": {
          "base_uri": "https://localhost:8080/"
        },
        "id": "AzcESOieDN_g",
        "outputId": "5c574299-0ffb-48b2-d164-c7a33e3075a1"
      },
      "outputs": [
        {
          "name": "stdout",
          "output_type": "stream",
          "text": [
            "[[0 1 2 3]\n",
            " [4 5 6 7]] \n",
            "\n",
            "[[ 8  9 10 11]\n",
            " [12 13 14 15]] \n",
            "\n",
            "[[ 0  1  2  3]\n",
            " [ 4  5  6  7]\n",
            " [ 8  9 10 11]\n",
            " [12 13 14 15]] \n",
            "\n",
            "[[ 0  1  2  3]\n",
            " [ 4  5  6  7]\n",
            " [ 8  9 10 11]\n",
            " [12 13 14 15]] \n",
            "\n",
            "[[ 0  1  2  3  8  9 10 11]\n",
            " [ 4  5  6  7 12 13 14 15]] \n",
            "\n",
            "[[ 0  1  2  3  8  9 10 11]\n",
            " [ 4  5  6  7 12 13 14 15]]\n"
          ]
        }
      ],
      "source": [
        "# concateneation with n-dim array\n",
        "# need to specify the axis\n",
        "x = np.arange(0,8).reshape((2, 4))\n",
        "y = np.arange(8,16).reshape((2, 4))\n",
        "print (x, '\\n')\n",
        "print (y, '\\n')\n",
        "\n",
        "print (np.concatenate([x,y], axis=0), '\\n')\n",
        "print (np.vstack([x,y]), '\\n')\n",
        "\n",
        "print (np.concatenate([x,y], axis=1), '\\n')\n",
        "print (np.hstack([x,y]))"
      ]
    },
    {
      "cell_type": "markdown",
      "metadata": {
        "id": "kdbOMxTuDN_g"
      },
      "source": [
        "## 2-2. Computation on NumPy arrays: Universal Functions\n",
        "\n",
        "#### Loops are slow"
      ]
    },
    {
      "cell_type": "code",
      "execution_count": null,
      "metadata": {
        "id": "OivcAJygDN_g",
        "outputId": "ef178fe7-8c7c-4063-bde2-1519ae841023"
      },
      "outputs": [
        {
          "name": "stdout",
          "output_type": "stream",
          "text": [
            "500208.0327725265\n"
          ]
        }
      ],
      "source": [
        "import numpy as np\n",
        "a = np.random.random(size=1000000)\n",
        "print(a.sum())  # TAQ : any guess?"
      ]
    },
    {
      "cell_type": "markdown",
      "metadata": {
        "id": "KdVYXRs-DN_g"
      },
      "source": [
        "- the following code is slow, why?\n",
        "    * using list?\n",
        "    * using for loop?\n",
        "\n",
        "- Answer: NumPy arrays allocate contiguous memory in advance, and mathematical operations are implemented in C for efficiency."
      ]
    },
    {
      "cell_type": "code",
      "execution_count": null,
      "metadata": {
        "colab": {
          "base_uri": "https://localhost:8080/"
        },
        "id": "FBP4YahDDN_j",
        "outputId": "3e3944d3-76d8-451f-fdcc-00455d55ac2e"
      },
      "outputs": [
        {
          "name": "stdout",
          "output_type": "stream",
          "text": [
            "106 ms ± 955 µs per loop (mean ± std. dev. of 7 runs, 10 loops each)\n"
          ]
        }
      ],
      "source": [
        "# reciprocal number (역수) using List\n",
        "# using list and for-loop\n",
        "def reciprocal_1(x):\n",
        "    '''\n",
        "     return:\n",
        "      y: list of all reciprocals\n",
        "      s: sum of all the reciprocals\n",
        "    '''\n",
        "    n = len(x)\n",
        "    y = [] # list\n",
        "    s = 0.0\n",
        "    for i in range(n):\n",
        "        z = 1.0 / x[i] # reciprocal number\n",
        "        s += z\n",
        "        y.append(z)\n",
        "    return y, s\n",
        "\n",
        "a = np.random.random(size=1000000)\n",
        "%timeit y, s = reciprocal_1(a)"
      ]
    },
    {
      "cell_type": "code",
      "execution_count": null,
      "metadata": {
        "colab": {
          "base_uri": "https://localhost:8080/"
        },
        "id": "K0RIj9aiDN_j",
        "outputId": "45b331bb-6955-48d3-fbd7-43e27ca81bfd"
      },
      "outputs": [
        {
          "name": "stdout",
          "output_type": "stream",
          "text": [
            "91.8 ms ± 203 µs per loop (mean ± std. dev. of 7 runs, 10 loops each)\n"
          ]
        }
      ],
      "source": [
        "# using numpy array and for-loop\n",
        "def reciprocal_2(x):\n",
        "    n = len(x)\n",
        "    y = np.zeros(n) # numpy\n",
        "    for i in range(n):\n",
        "        y[i] = 1.0 / x[i]\n",
        "    return y, y.sum()\n",
        "\n",
        "%timeit y, s = reciprocal_2(a)"
      ]
    },
    {
      "cell_type": "code",
      "execution_count": null,
      "metadata": {
        "colab": {
          "base_uri": "https://localhost:8080/"
        },
        "id": "UWMwA2GNDN_j",
        "outputId": "18a995db-a869-4604-a566-8c39d044df52"
      },
      "outputs": [
        {
          "name": "stdout",
          "output_type": "stream",
          "text": [
            "736 µs ± 8.72 µs per loop (mean ± std. dev. of 7 runs, 1,000 loops each)\n"
          ]
        }
      ],
      "source": [
        "# using numpy array and no-loop\n",
        "def reciprocal_3(x):\n",
        "    y = 1/x # numpy array vectorized operation\n",
        "    return y, y.sum()\n",
        "\n",
        "%timeit b, sum = reciprocal_3(a)"
      ]
    },
    {
      "cell_type": "markdown",
      "metadata": {
        "id": "cJyNpFbSDN_j"
      },
      "source": [
        "#### UFuncs : vectorized opertions\n",
        "\n",
        "- __ufunc__ : UFuncs, or Universal Functions, are functions in NumPy that operate element-wise on arrays, providing fast and efficient computations by utilizing broadcasting and vectorization.\n",
        "    * very fast\n",
        "    * __element-wise__ operations on numpy array\n",
        "    * unary\n",
        "    * binary: scalar ⊙ np array\n",
        "    * binary: np array ⊙ np array\n"
      ]
    },
    {
      "cell_type": "code",
      "execution_count": 1,
      "metadata": {
        "id": "oC0rTOK3DN_k",
        "jupyter": {
          "outputs_hidden": false
        },
        "outputId": "789ea32e-cd67-4b2e-9575-6d357c5ea8f5",
        "colab": {
          "base_uri": "https://localhost:8080/"
        }
      },
      "outputs": [
        {
          "output_type": "stream",
          "name": "stdout",
          "text": [
            "[ 0  2  4  6  8 10]\n",
            "[ 1  3  5  7  9 11]\n"
          ]
        }
      ],
      "source": [
        "import numpy as np\n",
        "x = np.arange(0,11,2)\n",
        "y = np.arange(1,12,2)\n",
        "print(x)\n",
        "print(y)"
      ]
    },
    {
      "cell_type": "code",
      "execution_count": 2,
      "metadata": {
        "id": "gjoErmhoDN_k",
        "jupyter": {
          "outputs_hidden": false
        },
        "outputId": "8e6f5323-339b-464a-8296-3008f103a345",
        "colab": {
          "base_uri": "https://localhost:8080/"
        }
      },
      "outputs": [
        {
          "output_type": "stream",
          "name": "stdout",
          "text": [
            "x     = [ 0  2  4  6  8 10]\n",
            "x + 5 = [ 5  7  9 11 13 15]\n",
            "x - 5 = [-5 -3 -1  1  3  5]\n",
            "x * 2 = [ 0  4  8 12 16 20]\n",
            "x / 2 = [0. 1. 2. 3. 4. 5.]\n",
            "x // 2 = [0 1 2 3 4 5]\n"
          ]
        }
      ],
      "source": [
        "# basic functions\n",
        "print(\"x     =\", x)\n",
        "print(\"x + 5 =\", x + 5)\n",
        "print(\"x - 5 =\", x - 5)\n",
        "print(\"x * 2 =\", x * 2)\n",
        "print(\"x / 2 =\", x / 2)\n",
        "print(\"x // 2 =\", x // 2)  # floor division"
      ]
    },
    {
      "cell_type": "code",
      "execution_count": 3,
      "metadata": {
        "colab": {
          "base_uri": "https://localhost:8080/"
        },
        "id": "rxNxi0zRDN_k",
        "jupyter": {
          "outputs_hidden": false
        },
        "outputId": "41148922-f8c3-4228-e7e2-e8f7df91f763"
      },
      "outputs": [
        {
          "output_type": "stream",
          "name": "stdout",
          "text": [
            "-x     =  [  0  -2  -4  -6  -8 -10]\n",
            "x ** 2 =  [  0   4  16  36  64 100]\n",
            "x % 2  =  [0 0 0 0 0 0]\n",
            "-(x/2+1)**2 =  [ -1.  -4.  -9. -16. -25. -36.]\n"
          ]
        }
      ],
      "source": [
        "print(\"-x     = \", -x)\n",
        "print(\"x ** 2 = \", x ** 2) # x to the power of 2\n",
        "print(\"x % 2  = \", x % 2) # modulus operation, giving the remainder when x is divided by 2.\n",
        "print(\"-(x/2+1)**2 = \", -(0.5*x + 1) ** 2)"
      ]
    },
    {
      "cell_type": "code",
      "execution_count": 4,
      "metadata": {
        "id": "0W7en9E3DN_k",
        "jupyter": {
          "outputs_hidden": false
        },
        "outputId": "fc89e980-ec11-4678-a747-382260f1f5e0",
        "colab": {
          "base_uri": "https://localhost:8080/"
        }
      },
      "outputs": [
        {
          "output_type": "stream",
          "name": "stdout",
          "text": [
            "[ 2  4  6  8 10 12]\n",
            "[ 2  4  6  8 10 12]\n"
          ]
        }
      ],
      "source": [
        "print (x + 2)\n",
        "# we can also use np.opeartion function\n",
        "print (np.add(x, 2))"
      ]
    },
    {
      "cell_type": "markdown",
      "metadata": {
        "id": "diJeThRUDN_k"
      },
      "source": [
        "The following table lists the arithmetic operators implemented in NumPy:\n",
        "\n",
        "| Operator\t    | Equivalent ufunc    | Description                           |\n",
        "|---------------|---------------------|---------------------------------------|\n",
        "|``+``          |``np.add``           |Addition (e.g., ``1 + 1 = 2``)         |\n",
        "|``-``          |``np.subtract``      |Subtraction (e.g., ``3 - 2 = 1``)      |\n",
        "|``-``          |``np.negative``      |Unary negation (e.g., ``-2``)          |\n",
        "|``*``          |``np.multiply``      |Multiplication (e.g., ``2 * 3 = 6``)   |\n",
        "|``/``          |``np.divide``        |Division (e.g., ``3 / 2 = 1.5``)       |\n",
        "|``//``         |``np.floor_divide``  |Floor division (e.g., ``3 // 2 = 1``)  |\n",
        "|``**``         |``np.power``         |Exponentiation (e.g., ``2 ** 3 = 8``)  |\n",
        "|``%``          |``np.mod``           |Modulus/remainder (e.g., ``9 % 4 = 1``)|"
      ]
    },
    {
      "cell_type": "markdown",
      "metadata": {
        "id": "fAbTLZrKDN_k"
      },
      "source": [
        "#### Math functions"
      ]
    },
    {
      "cell_type": "code",
      "execution_count": 5,
      "metadata": {
        "id": "HvZ4zuHbDN_k",
        "outputId": "85f80a68-585c-42b1-db28-914815b085db",
        "colab": {
          "base_uri": "https://localhost:8080/"
        }
      },
      "outputs": [
        {
          "output_type": "stream",
          "name": "stdout",
          "text": [
            "x     = [-1, 2, -3]\n",
            "y=|x| = [1 2 3]\n",
            "[1 2 3]\n"
          ]
        }
      ],
      "source": [
        "x = [-1, 2, -3]\n",
        "print(\"x     =\", x)      # x: python list\n",
        "y = np.abs(x)            # x is converted to np array, so is y\n",
        "print(\"y=|x| =\", y)\n",
        "print (np.absolute(x))"
      ]
    },
    {
      "cell_type": "code",
      "execution_count": 7,
      "metadata": {
        "id": "HvOIY8MVDN_k",
        "outputId": "872b176c-f6a5-4fa2-d2ca-324d0ddb3c52",
        "colab": {
          "base_uri": "https://localhost:8080/"
        }
      },
      "outputs": [
        {
          "output_type": "stream",
          "name": "stdout",
          "text": [
            "e^y   = [ 2.71828183  7.3890561  20.08553692]\n",
            "2^y   = [2. 4. 8.]\n",
            "3^y   = [ 3  9 27]\n"
          ]
        }
      ],
      "source": [
        "x = [1, 2, 3]\n",
        "print(\"e^y   =\", np.exp(y)) # e to the power of y\n",
        "print(\"2^y   =\", np.exp2(y)) # two to the power of y\n",
        "print(\"3^y   =\", np.power(3, y)) # three to the power of y"
      ]
    },
    {
      "cell_type": "code",
      "execution_count": 8,
      "metadata": {
        "id": "Xn8KBlnIDN_k",
        "outputId": "3978c8f8-95d0-4773-b52c-031b05164b6d",
        "colab": {
          "base_uri": "https://localhost:8080/"
        }
      },
      "outputs": [
        {
          "output_type": "stream",
          "name": "stdout",
          "text": [
            "x        = [1, 2, 4, 10]\n",
            "ln(x)    = [0.         0.69314718 1.38629436 2.30258509]\n",
            "log2(x)  = [0.         1.         2.         3.32192809]\n",
            "log10(x) = [0.         0.30103    0.60205999 1.        ]\n"
          ]
        }
      ],
      "source": [
        "x = [1, 2, 4, 10]\n",
        "# computes the base-a logarithm of x\n",
        "print(\"x        =\", x)\n",
        "print(\"ln(x)    =\", np.log(x))\n",
        "print(\"log2(x)  =\", np.log2(x))\n",
        "print(\"log10(x) =\", np.log10(x))"
      ]
    },
    {
      "cell_type": "markdown",
      "metadata": {
        "id": "V8cIl-JjDN_k"
      },
      "source": [
        "# Special function : np.expm1(x), np.log1p(x)\n",
        "- For computing more pricisely with fewer bytes, when x is small\n",
        "- ``np.expm1(x)`` : high precision function for np.exp(x)-1\n",
        "- ``np.log1p(x)`` : high precision function for np.log(1+x)\n",
        "\n",
        "As the number of decimal places increases, the accuracy of the result decrease with fewer bytes."
      ]
    },
    {
      "cell_type": "code",
      "execution_count": null,
      "metadata": {
        "id": "qyNsX7SqDN_k",
        "jupyter": {
          "outputs_hidden": false
        },
        "outputId": "f3ef4bc9-4e46-4ade-8c1f-ca715b2c0e85"
      },
      "outputs": [
        {
          "name": "stdout",
          "output_type": "stream",
          "text": [
            "exp(x) - 1 = [1.00052357e-03 1.00016594e-04 1.00135803e-05]\n",
            "exp(y) - 1 = [1.00050021e-03 1.00004998e-04 1.00000497e-05]\n",
            "expm1(x)   = [1.00050017e-03 1.00004996e-04 1.00000498e-05]\n",
            "log(1 + x) = [9.99546959e-04 1.00011595e-04 1.00135303e-05]\n",
            "log(1 + y) = [9.99500381e-04 9.99949978e-05 9.99994975e-06]\n",
            "log1p(x)   = [9.995004e-04 9.999500e-05 9.999950e-06]\n"
          ]
        }
      ],
      "source": [
        "# for low precision\n",
        "x = np.array([0.001, 0.0001, 0.00001], dtype=np.float32)\n",
        "# for high precision\n",
        "y = np.array(x, dtype=np.float64)\n",
        "\n",
        "print(\"exp(x) - 1 =\", np.exp(x)-1)\n",
        "print(\"exp(y) - 1 =\", np.exp(y)-1)\n",
        "print(\"expm1(x)   =\", np.expm1(x))\n",
        "\n",
        "print(\"log(1 + x) =\", np.log(1+x))\n",
        "print(\"log(1 + y) =\", np.log(1+y))\n",
        "print(\"log1p(x)   =\", np.log1p(x))"
      ]
    },
    {
      "cell_type": "markdown",
      "metadata": {
        "id": "TBlaBT34DN_k"
      },
      "source": [
        "#### Trigonometric functions"
      ]
    },
    {
      "cell_type": "code",
      "execution_count": null,
      "metadata": {
        "id": "0YJRN8CKDN_k",
        "jupyter": {
          "outputs_hidden": false
        },
        "outputId": "d5141409-c9e7-4b99-9c47-51c905022eda"
      },
      "outputs": [
        {
          "name": "stdout",
          "output_type": "stream",
          "text": [
            "theta      =  [0.         1.04719755 2.0943951  3.14159265]\n",
            "sin(theta) =  [0.00000000e+00 8.66025404e-01 8.66025404e-01 1.22464680e-16]\n",
            "cos(theta) =  [ 1.   0.5 -0.5 -1. ]\n",
            "tan(theta) =  [ 0.00000000e+00  1.73205081e+00 -1.73205081e+00 -1.22464680e-16]\n"
          ]
        }
      ],
      "source": [
        "theta = np.linspace(0, np.pi, 4)\n",
        "print(\"theta      = \", theta)\n",
        "print(\"sin(theta) = \", np.sin(theta))\n",
        "print(\"cos(theta) = \", np.cos(theta))\n",
        "print(\"tan(theta) = \", np.tan(theta))"
      ]
    },
    {
      "cell_type": "code",
      "execution_count": null,
      "metadata": {
        "id": "cdDj9EazDN_k",
        "jupyter": {
          "outputs_hidden": false
        },
        "outputId": "3097e2fb-90ce-4f69-f3cf-e35185c729c4"
      },
      "outputs": [
        {
          "name": "stdout",
          "output_type": "stream",
          "text": [
            "x         =  [-1, 0, 1]\n",
            "arcsin(x) =  [-1.57079633  0.          1.57079633]\n",
            "arccos(x) =  [3.14159265 1.57079633 0.        ]\n",
            "arctan(x) =  [-0.78539816  0.          0.78539816]\n"
          ]
        }
      ],
      "source": [
        "x = [-1, 0, 1]\n",
        "print(\"x         = \", x)\n",
        "print(\"arcsin(x) = \", np.arcsin(x))\n",
        "print(\"arccos(x) = \", np.arccos(x))\n",
        "print(\"arctan(x) = \", np.arctan(x))"
      ]
    },
    {
      "cell_type": "markdown",
      "metadata": {
        "id": "L2za0Ga8DN_k"
      },
      "source": [
        "#### Specialized functions : gamma, beta, erf, ...\n",
        "- ``scipy.special`` : provides many special functions\n",
        "\n",
        "- Gamma: (x-1)!\n",
        "- ln(Gamma)\n",
        "- Beta: Gamma(x1)*Gamma(x2)/Gamma(x1+x2)"
      ]
    },
    {
      "cell_type": "code",
      "execution_count": null,
      "metadata": {
        "id": "g4hLctrZDN_k",
        "jupyter": {
          "outputs_hidden": false
        }
      },
      "outputs": [],
      "source": [
        "from scipy import special"
      ]
    },
    {
      "cell_type": "code",
      "execution_count": null,
      "metadata": {
        "id": "nPwo6if2DN_l",
        "jupyter": {
          "outputs_hidden": false
        },
        "outputId": "ae8b0aba-11b6-4353-9010-2ab9230d5679"
      },
      "outputs": [
        {
          "name": "stdout",
          "output_type": "stream",
          "text": [
            "gamma(x)     = [1.0000e+00 2.4000e+01 3.6288e+05]\n",
            "ln|gamma(x)| = [ 0.          3.17805383 12.80182748]\n",
            "beta(x, 2)   = [0.5        0.03333333 0.00909091]\n"
          ]
        }
      ],
      "source": [
        "# Gamma functions (generalized factorials) and related functions\n",
        "x = [1, 5, 10]\n",
        "print(\"gamma(x)     =\", special.gamma(x))\n",
        "print(\"ln|gamma(x)| =\", special.gammaln(x))\n",
        "print(\"beta(x, 2)   =\", special.beta(x, 2))"
      ]
    },
    {
      "cell_type": "code",
      "execution_count": null,
      "metadata": {
        "id": "1sop8PfgDN_l",
        "jupyter": {
          "outputs_hidden": false
        },
        "outputId": "d56b5ac9-ec73-460a-a0de-3fb8dde615cd"
      },
      "outputs": [
        {
          "name": "stdout",
          "output_type": "stream",
          "text": [
            "erf(x)  = [0.         0.32862676 0.67780119 0.84270079]\n",
            "erfc(x) = [1.         0.67137324 0.32219881 0.15729921]\n",
            "erfinv(x) = [0.         0.27246271 0.73286908        inf]\n"
          ]
        }
      ],
      "source": [
        "# Error function (integral of Gaussian)\n",
        "# - wiki: https://en.wikipedia.org/wiki/Error_function\n",
        "# its complement, and its inverse\n",
        "x = np.array([0, 0.3, 0.7, 1.0])\n",
        "print(\"erf(x)  =\", special.erf(x))\n",
        "print(\"erfc(x) =\", special.erfc(x))\n",
        "print(\"erfinv(x) =\", special.erfinv(x))"
      ]
    },
    {
      "cell_type": "markdown",
      "metadata": {
        "id": "EdKDdiYEDN_l"
      },
      "source": [
        "#### Specifying output\n",
        "We can specify the slice to store the value resulted from the operation."
      ]
    },
    {
      "cell_type": "code",
      "execution_count": null,
      "metadata": {
        "colab": {
          "base_uri": "https://localhost:8080/"
        },
        "id": "JGPym03HDN_l",
        "jupyter": {
          "outputs_hidden": false
        },
        "outputId": "c318875b-8180-45cc-bb3e-e15411f56abf"
      },
      "outputs": [
        {
          "name": "stdout",
          "output_type": "stream",
          "text": [
            "[0 1 2 3 4 5 6 7 8 9]\n",
            "[ 0  1  2  0 10 20 30 40  8  9]\n",
            "[ 0  1  2  0 10 20 30 40  8  9]\n"
          ]
        }
      ],
      "source": [
        "x = np.arange(5)\n",
        "y = np.arange(10)\n",
        "print(y)\n",
        "np.multiply(x, 10, out=y[3:8])  # store x*10 to y[3:8]\n",
        "print(y)\n",
        "y[3:8] = np.multiply(x, 10)\n",
        "print(y)"
      ]
    },
    {
      "cell_type": "markdown",
      "metadata": {
        "id": "yT_LIuNEDN_l"
      },
      "source": [
        "## 2-3. Aggregations : sum, min, max, and so on\n",
        "- numpy aggregation functions are much faster than standard python aggregation"
      ]
    },
    {
      "cell_type": "code",
      "execution_count": null,
      "metadata": {
        "colab": {
          "base_uri": "https://localhost:8080/"
        },
        "id": "f5iHbadiDN_l",
        "outputId": "39cae48b-2165-41c5-a5e3-9a9771081b1e"
      },
      "outputs": [
        {
          "name": "stdout",
          "output_type": "stream",
          "text": [
            "3.72 ms ± 121 µs per loop (mean ± std. dev. of 7 runs, 100 loops each)\n",
            "19 µs ± 60.1 ns per loop (mean ± std. dev. of 7 runs, 100,000 loops each)\n"
          ]
        }
      ],
      "source": [
        "L = np.random.random(100000)\n",
        "%timeit sum(L)\n",
        "%timeit np.sum(L)"
      ]
    },
    {
      "cell_type": "code",
      "execution_count": null,
      "metadata": {
        "id": "QmbrnwnKDN_l",
        "outputId": "544f2cad-ea57-42d3-89a1-465d4d4a8137"
      },
      "outputs": [
        {
          "name": "stdout",
          "output_type": "stream",
          "text": [
            "2.52 ms ± 26.7 µs per loop (mean ± std. dev. of 7 runs, 100 loops each)\n",
            "9.88 µs ± 16.1 ns per loop (mean ± std. dev. of 7 runs, 100,000 loops each)\n"
          ]
        }
      ],
      "source": [
        "%timeit max(L)\n",
        "%timeit L.max()"
      ]
    },
    {
      "cell_type": "code",
      "execution_count": null,
      "metadata": {
        "colab": {
          "base_uri": "https://localhost:8080/"
        },
        "id": "ds5MrPIaDN_l",
        "outputId": "65c1e04c-bb00-45fc-db12-23fbdb22ced5"
      },
      "outputs": [
        {
          "name": "stdout",
          "output_type": "stream",
          "text": [
            "[[0.56914133 0.21465469 0.38115541 0.97418681]\n",
            " [0.02341311 0.07337174 0.1851855  0.73168067]\n",
            " [0.69691282 0.29440102 0.40946126 0.51266065]]\n"
          ]
        }
      ],
      "source": [
        "# operations for n-dim array\n",
        "M = np.random.random((3, 4))\n",
        "print(M)"
      ]
    },
    {
      "cell_type": "code",
      "execution_count": null,
      "metadata": {
        "colab": {
          "base_uri": "https://localhost:8080/"
        },
        "id": "qNJLwxoJDN_l",
        "outputId": "0de409ce-669e-41ec-955c-8ff5606cc52b"
      },
      "outputs": [
        {
          "name": "stdout",
          "output_type": "stream",
          "text": [
            "5.066225017798619\n",
            "[1.28946727 0.58242745 0.97580217 2.21852812] \n",
            "\n",
            "[[0.56914133 0.78379603 1.16495143 2.13913824]\n",
            " [0.02341311 0.09678486 0.28197036 1.01365103]\n",
            " [0.69691282 0.99131384 1.4007751  1.91343575]] \n",
            "\n",
            "[0.00928662 0.00463669 0.0289016  0.36542126] \n",
            "\n",
            "[[5.69141335e-01 1.22168857e-01 4.65653205e-02 4.53633210e-02]\n",
            " [2.34131143e-02 1.71786096e-03 3.18122946e-04 2.32764410e-04]\n",
            " [6.96912817e-01 2.05171846e-01 8.40099233e-02 4.30685815e-02]] \n",
            "\n"
          ]
        }
      ],
      "source": [
        "# using built-in member function\n",
        "print(M.sum())\n",
        "print(M.sum(axis=0), '\\n') # give axis for sum\n",
        "print(M.cumsum(axis=1), '\\n') # accumulated sum\n",
        "print(M.prod(axis=0), '\\n') # give axis for prod\n",
        "print(M.cumprod(axis=1), '\\n') # accumulated prod"
      ]
    },
    {
      "cell_type": "code",
      "execution_count": null,
      "metadata": {
        "colab": {
          "base_uri": "https://localhost:8080/"
        },
        "id": "WWdNKPX6DN_l",
        "outputId": "e45a495f-64b3-414a-d010-54ce88095600"
      },
      "outputs": [
        {
          "name": "stdout",
          "output_type": "stream",
          "text": [
            "min = [0.02341311 0.07337174 0.1851855  0.51266065]\n",
            "max = [0.69691282 0.29440102 0.40946126 0.97418681]\n",
            "mean= [0.42982242 0.19414248 0.32526739 0.73950937]\n",
            "var = [0.08530519 0.0083527  0.009945   0.03553171]\n",
            "std = [0.29207052 0.0913931  0.09972464 0.18849857]\n",
            "med = [0.56914133 0.21465469 0.38115541 0.73168067]\n",
            "p75%= [0.63302708 0.25452786 0.39530834 0.85293374]\n"
          ]
        }
      ],
      "source": [
        "print('min =', M.min(axis=0))\n",
        "print('max =', M.max(axis=0))\n",
        "print('mean=', M.mean(axis=0))\n",
        "print('var =', M.var(axis=0))\n",
        "print('std =', M.std(axis=0))\n",
        "\n",
        "# use numpy function for median, percentile\n",
        "print('med =', np.median(M, axis=0))  # M.median(axis=0) does not work\n",
        "print('p75%=', np.percentile(M, 75, axis=0))"
      ]
    },
    {
      "cell_type": "code",
      "execution_count": null,
      "metadata": {
        "id": "hiinKyaEDN_l",
        "outputId": "b2d60c06-2ef1-4491-c232-bfb89dc69120"
      },
      "outputs": [
        {
          "name": "stdout",
          "output_type": "stream",
          "text": [
            "9\n",
            "0\n"
          ]
        }
      ],
      "source": [
        "x = np.arange(9,-1,-1)\n",
        "print (np.argmin(x))\n",
        "print (x.argmax())"
      ]
    },
    {
      "cell_type": "markdown",
      "metadata": {
        "id": "5YJfxhZQDN_l"
      },
      "source": [
        "## 2-4. Example: What is the Average Height of US Presidents?"
      ]
    },
    {
      "cell_type": "markdown",
      "metadata": {
        "id": "nTNNH7eRDN_l",
        "jupyter": {
          "outputs_hidden": false
        }
      },
      "source": [
        "#### president_heights.csv : store in data folder\n",
        "\n",
        "order,name,height(cm)  \n",
        "1,George Washington,189  \n",
        "2,John Adams,170  \n",
        "3,Thomas Jefferson,189  \n",
        "..."
      ]
    },
    {
      "cell_type": "code",
      "execution_count": 9,
      "metadata": {
        "colab": {
          "base_uri": "https://localhost:8080/"
        },
        "id": "UB2IWdaaE_sr",
        "outputId": "23f7502f-1044-4f76-dc73-da9f33a34d57"
      },
      "outputs": [
        {
          "output_type": "stream",
          "name": "stdout",
          "text": [
            "Requirement already satisfied: gdown in /usr/local/lib/python3.10/dist-packages (5.1.0)\n",
            "Requirement already satisfied: beautifulsoup4 in /usr/local/lib/python3.10/dist-packages (from gdown) (4.12.3)\n",
            "Requirement already satisfied: filelock in /usr/local/lib/python3.10/dist-packages (from gdown) (3.16.0)\n",
            "Requirement already satisfied: requests[socks] in /usr/local/lib/python3.10/dist-packages (from gdown) (2.32.3)\n",
            "Requirement already satisfied: tqdm in /usr/local/lib/python3.10/dist-packages (from gdown) (4.66.5)\n",
            "Requirement already satisfied: soupsieve>1.2 in /usr/local/lib/python3.10/dist-packages (from beautifulsoup4->gdown) (2.6)\n",
            "Requirement already satisfied: charset-normalizer<4,>=2 in /usr/local/lib/python3.10/dist-packages (from requests[socks]->gdown) (3.3.2)\n",
            "Requirement already satisfied: idna<4,>=2.5 in /usr/local/lib/python3.10/dist-packages (from requests[socks]->gdown) (3.8)\n",
            "Requirement already satisfied: urllib3<3,>=1.21.1 in /usr/local/lib/python3.10/dist-packages (from requests[socks]->gdown) (2.0.7)\n",
            "Requirement already satisfied: certifi>=2017.4.17 in /usr/local/lib/python3.10/dist-packages (from requests[socks]->gdown) (2024.8.30)\n",
            "Requirement already satisfied: PySocks!=1.5.7,>=1.5.6 in /usr/local/lib/python3.10/dist-packages (from requests[socks]->gdown) (1.7.1)\n",
            "Downloading...\n",
            "From: https://drive.google.com/uc?id=1GSu21lz1ydB-g5fkhh0WI0GNd0YBBlLb\n",
            "To: /content/president_heights.csv\n",
            "100% 988/988 [00:00<00:00, 3.54MB/s]\n"
          ]
        }
      ],
      "source": [
        "# data preparation\n",
        "!pip install gdown\n",
        "!gdown https://drive.google.com/uc?id=1GSu21lz1ydB-g5fkhh0WI0GNd0YBBlLb"
      ]
    },
    {
      "cell_type": "markdown",
      "metadata": {
        "id": "fEaZ6Nz3DN_l"
      },
      "source": [
        "#### pandas to read the file\n",
        "- pandas will be explored more fully later"
      ]
    },
    {
      "cell_type": "code",
      "execution_count": 11,
      "metadata": {
        "colab": {
          "base_uri": "https://localhost:8080/"
        },
        "id": "P8Sdk3XHDN_l",
        "jupyter": {
          "outputs_hidden": false
        },
        "outputId": "9a43bea5-4bc5-4c41-b367-991c029a8e67"
      },
      "outputs": [
        {
          "output_type": "stream",
          "name": "stdout",
          "text": [
            "[189 170 189 163 183 171 185 168 173 183 173 173 175 178 183 193 178 173\n",
            " 174 183 183 168 170 178 182 180 183 178 182 188 175 179 183 193 182 183\n",
            " 177 185 188 188 182 185]\n"
          ]
        }
      ],
      "source": [
        "import pandas as pd\n",
        "data = pd.read_csv('president_heights.csv')\n",
        "heights = np.array(data['height(cm)'])\n",
        "print(heights)"
      ]
    },
    {
      "cell_type": "markdown",
      "metadata": {
        "id": "MuRqWTT_DN_l"
      },
      "source": [
        "#### summary statistics:"
      ]
    },
    {
      "cell_type": "code",
      "execution_count": null,
      "metadata": {
        "id": "1xpxN4DHDN_l",
        "jupyter": {
          "outputs_hidden": false
        },
        "outputId": "aa3c46e6-3e72-4ccd-ec53-22bbdc0dd9bf"
      },
      "outputs": [
        {
          "name": "stdout",
          "output_type": "stream",
          "text": [
            "Mean height:        179.73809523809524\n",
            "Standard deviation: 6.931843442745892\n",
            "Minimum height:     163\n",
            "Maximum height:     193\n"
          ]
        }
      ],
      "source": [
        "print(\"Mean height:       \", heights.mean())\n",
        "print(\"Standard deviation:\", heights.std())\n",
        "print(\"Minimum height:    \", heights.min())\n",
        "print(\"Maximum height:    \", heights.max())"
      ]
    },
    {
      "cell_type": "markdown",
      "metadata": {
        "id": "8Y7Yd828DN_l"
      },
      "source": [
        "#### quantiles:"
      ]
    },
    {
      "cell_type": "code",
      "execution_count": null,
      "metadata": {
        "id": "BJsvBB-dDN_m",
        "jupyter": {
          "outputs_hidden": false
        },
        "outputId": "f09faf60-fffd-4b5d-bf43-4a10429e9da5"
      },
      "outputs": [
        {
          "name": "stdout",
          "output_type": "stream",
          "text": [
            "25th percentile:    174.25\n",
            "Median:             182.0\n",
            "75th percentile:    183.0\n"
          ]
        }
      ],
      "source": [
        "print(\"25th percentile:   \", np.percentile(heights, 25))\n",
        "print(\"Median:            \", np.median(heights))\n",
        "print(\"75th percentile:   \", np.percentile(heights, 75))"
      ]
    },
    {
      "cell_type": "code",
      "execution_count": null,
      "metadata": {
        "id": "h2OTm_2PDN_m",
        "jupyter": {
          "outputs_hidden": false
        }
      },
      "outputs": [],
      "source": [
        "%matplotlib inline\n",
        "import matplotlib.pyplot as plt\n",
        "import seaborn; seaborn.set()  # set plot style"
      ]
    },
    {
      "cell_type": "code",
      "execution_count": null,
      "metadata": {
        "colab": {
          "base_uri": "https://localhost:8080/",
          "height": 480
        },
        "id": "TEtbSXObDN_m",
        "jupyter": {
          "outputs_hidden": false
        },
        "outputId": "e8d9cc8a-0490-4230-9089-8178ba19df24"
      },
      "outputs": [
        {
          "data": {
            "image/png": "[encoded data removed]",
            "text/plain": [
              "<Figure size 640x480 with 1 Axes>"
            ]
          },
          "metadata": {},
          "output_type": "display_data"
        }
      ],
      "source": [
        "# Histogram: A histogram is a graphical representation of data that uses bars\n",
        "# to show the frequency distribution of a dataset, with each bar representing\n",
        "# the frequency of data points within a specific range or bin.\n",
        "plt.hist(heights)\n",
        "plt.title('Height Distribution of US Presidents')\n",
        "plt.xlabel('height (cm)')\n",
        "plt.ylabel('number');"
      ]
    }
  ],
  "metadata": {
    "colab": {
      "provenance": [],
      "include_colab_link": true
    },
    "kernelspec": {
      "display_name": "Python 3 (ipykernel)",
      "language": "python",
      "name": "python3"
    },
    "language_info": {
      "codemirror_mode": {
        "name": "ipython",
        "version": 3
      },
      "file_extension": ".py",
      "mimetype": "text/x-python",
      "name": "python",
      "nbconvert_exporter": "python",
      "pygments_lexer": "ipython3",
      "version": "3.11.7"
    }
  },
  "nbformat": 4,
  "nbformat_minor": 0
}